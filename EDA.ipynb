{
 "cells": [
  {
   "cell_type": "code",
   "execution_count": 1,
   "outputs": [],
   "source": [
    "import pandas as pd\n",
    "import numpy as np\n",
    "import pickle, gc\n",
    "import matplotlib.pyplot as plt"
   ],
   "metadata": {
    "collapsed": false,
    "pycharm": {
     "name": "#%%\n"
    }
   }
  },
  {
   "cell_type": "code",
   "execution_count": 2,
   "outputs": [],
   "source": [
    "train = pd.read_parquet('../input/train.parquet')\n",
    "test = pd.read_parquet('../input/test.parquet')"
   ],
   "metadata": {
    "collapsed": false,
    "pycharm": {
     "name": "#%%\n"
    }
   }
  },
  {
   "cell_type": "code",
   "execution_count": 4,
   "outputs": [],
   "source": [
    "labels = pd.read_csv('../input/train_labels.csv')"
   ],
   "metadata": {
    "collapsed": false,
    "pycharm": {
     "name": "#%%\n"
    }
   }
  },
  {
   "cell_type": "code",
   "execution_count": 5,
   "outputs": [],
   "source": [
    "train = train.merge(labels, how = 'left', on = 'customer_ID')"
   ],
   "metadata": {
    "collapsed": false,
    "pycharm": {
     "name": "#%%\n"
    }
   }
  },
  {
   "cell_type": "code",
   "execution_count": 13,
   "outputs": [
    {
     "name": "stdout",
     "output_type": "stream",
     "text": [
      "Any missing label? False\n",
      "Any duplicate customer_id? False\n"
     ]
    }
   ],
   "source": [
    "print(f\"Any missing label? {labels.isna().any().any()}\")\n",
    "print(f\"Any duplicate customer_id? {labels.customer_ID.duplicated().any()}\")"
   ],
   "metadata": {
    "collapsed": false,
    "pycharm": {
     "name": "#%%\n"
    }
   }
  },
  {
   "cell_type": "code",
   "execution_count": 20,
   "outputs": [
    {
     "data": {
      "text/plain": "   absolute  relative  absolute_unsampled  relative_unsampled\n0    340085  0.741066             6801700             0.98283\n1    118828  0.258934              118828             0.01717",
      "text/html": "<div>\n<style scoped>\n    .dataframe tbody tr th:only-of-type {\n        vertical-align: middle;\n    }\n\n    .dataframe tbody tr th {\n        vertical-align: top;\n    }\n\n    .dataframe thead th {\n        text-align: right;\n    }\n</style>\n<table border=\"1\" class=\"dataframe\">\n  <thead>\n    <tr style=\"text-align: right;\">\n      <th></th>\n      <th>absolute</th>\n      <th>relative</th>\n      <th>absolute_unsampled</th>\n      <th>relative_unsampled</th>\n    </tr>\n  </thead>\n  <tbody>\n    <tr>\n      <th>0</th>\n      <td>340085</td>\n      <td>0.741066</td>\n      <td>6801700</td>\n      <td>0.98283</td>\n    </tr>\n    <tr>\n      <th>1</th>\n      <td>118828</td>\n      <td>0.258934</td>\n      <td>118828</td>\n      <td>0.01717</td>\n    </tr>\n  </tbody>\n</table>\n</div>"
     },
     "execution_count": 20,
     "metadata": {},
     "output_type": "execute_result"
    }
   ],
   "source": [
    "#Check relative values of the label counts. Note that, relative default values were increased by sampling one non-default from every twenty non-default.\n",
    "label_stat['absolute_unsampled'] = label_stat.absolute* [20, 1]\n",
    "label_stat['relative_unsampled'] = label_stat['absolute_unsampled']/label_stat['absolute_unsampled'].sum()\n",
    "label_stat"
   ],
   "metadata": {
    "collapsed": false,
    "pycharm": {
     "name": "#%%\n"
    }
   }
  },
  {
   "cell_type": "code",
   "execution_count": 19,
   "outputs": [
    {
     "data": {
      "text/plain": "                                         customer_ID         S_2       P_2  \\\n0  0000099d6bd597052cdcda90ffabf56573fe9d7c79be5f...  2017-03-09  0.938469   \n1  0000099d6bd597052cdcda90ffabf56573fe9d7c79be5f...  2017-04-07  0.936665   \n2  0000099d6bd597052cdcda90ffabf56573fe9d7c79be5f...  2017-05-28  0.954180   \n3  0000099d6bd597052cdcda90ffabf56573fe9d7c79be5f...  2017-06-13  0.960384   \n4  0000099d6bd597052cdcda90ffabf56573fe9d7c79be5f...  2017-07-16  0.947248   \n\n   D_39       B_1       B_2       R_1       S_3  D_41       B_3  D_42  D_43  \\\n0     0  0.008724  1.006838  0.009228  0.124035   0.0  0.004709   NaN   NaN   \n1     0  0.004923  1.000653  0.006151  0.126750   0.0  0.002714   NaN   NaN   \n2     3  0.021655  1.009672  0.006815  0.123977   0.0  0.009423   NaN   NaN   \n3     0  0.013683  1.002700  0.001373  0.117169   0.0  0.005531   NaN   NaN   \n4     0  0.015193  1.000727  0.007605  0.117325   0.0  0.009312   NaN   NaN   \n\n   D_44  B_4      D_45       B_5  R_2      D_46      D_47      D_48  D_49  \\\n0     0    6  0.708906  0.170600    0  0.358587  0.525351  0.255736    -1   \n1     0    5  0.712795  0.113239    0  0.353630  0.521311  0.223329    -1   \n2     0    5  0.720884  0.060492    0  0.334650  0.524568  0.189424    -1   \n3     0    4  0.723997  0.166782    0  0.323271  0.530929  0.135586    -1   \n4     0    3  0.720619  0.143630    0  0.231009  0.529305       NaN    -1   \n\n        B_6       B_7  B_8      D_50  D_51       B_9  R_3      D_52       P_3  \\\n0  0.063902  0.059416  0.0  0.148698     4  0.008207    0  0.207334  0.736463   \n1  0.065261  0.057744  0.0  0.149723     4  0.008373    0  0.202778  0.720886   \n2  0.066982  0.056647  0.0  0.151955     4  0.009355    0  0.206629  0.738044   \n3  0.083720  0.049253  0.0  0.151219     4  0.006782    0  0.208214  0.741813   \n4  0.075900  0.048918  0.0  0.154026     4  0.000519    0  0.205468  0.691986   \n\n       B_10  D_53       S_5      B_11  S_6  D_54  R_4       S_7      B_12  \\\n0  0.096219   NaN  0.023381  0.002768    0   1.0    0  0.161345  0.148266   \n1  0.099804   NaN  0.030599  0.002749    0   1.0    0  0.140951  0.143530   \n2  0.134073   NaN  0.048367  0.010077    0   1.0    0  0.112229  0.137014   \n3  0.134437   NaN  0.030063  0.009667    0   1.0    0  0.102838  0.129017   \n4  0.121518   NaN  0.054221  0.009484    0   1.0    0  0.094311  0.129539   \n\n    S_8      D_55      D_56      B_13  R_5      D_58       S_9      B_14  \\\n0  2896  0.354596  0.152025  0.118075    0  0.158612  0.065728  0.018385   \n1  2896  0.326757  0.156201  0.118737    0  0.148459  0.093935  0.013035   \n2  3166  0.304124  0.153795  0.114534    0  0.139504  0.084757  0.056653   \n3  2218  0.275055  0.155772  0.120740    0  0.138100  0.048382  0.012498   \n4  2896  0.231110  0.154914  0.095178    0  0.126443  0.039259  0.027897   \n\n   D_59      D_60      D_61      B_15  S_11      D_62  D_63  D_64  D_65  B_16  \\\n0     8  0.199617  0.308233  0.016361    15  0.091071     0     0     0     0   \n1     8  0.151387  0.265026  0.017688    15  0.086805     0     0     0     0   \n2     8  0.305883  0.212165  0.063955    15  0.094001     0     0     0     0   \n3     8  0.273553  0.204300  0.022732    15  0.094854     0     0     0     0   \n4     8  0.233103  0.175655  0.031171    17  0.093915     0     0     0     0   \n\n   B_17      B_18  B_19  D_66  B_20  D_68      S_12       R_6  S_13      B_21  \\\n0   NaN  0.652984     0    -1     0     6  0.272008  0.008363   524  0.002644   \n1   NaN  0.647093     0    -1     0     6  0.188970  0.004030   524  0.004193   \n2   NaN  0.645819     0    -1     0     6  0.495308  0.006838   702  0.001337   \n3   NaN  0.654358     0    -1     0     6  0.508670  0.008183   524  0.008716   \n4   NaN  0.650112     0    -1     0     6  0.216507  0.008605   524  0.006821   \n\n       D_69  B_22  D_70      D_71  D_72  S_15      B_23  D_73  P_4  D_74  \\\n0  0.009013     0     0  0.119403     0     4  0.050882   NaN  0.0     1   \n1  0.007842     0     0  0.140611     0     4  0.040469   NaN  0.0     1   \n2  0.006025     0     0  0.075868     0     4  0.047454   NaN  0.0     1   \n3  0.005271     0     0  0.150209     0     5  0.031705   NaN  0.0     1   \n4  0.000152     0     0  0.096441     0     4  0.032733   NaN  0.0     1   \n\n   D_75  D_76      B_24  R_7  D_77      B_25      B_26  D_78  D_79  R_8  R_9  \\\n0     1   NaN  0.004327  0.0   NaN  0.007729  0.000272     0     0    0   -1   \n1     1   NaN  0.004203  0.0   NaN  0.001864  0.000979     0     0    0   -1   \n2     1   NaN  0.001782  0.0   NaN  0.005419  0.006149     0     0    0   -1   \n3     1   NaN  0.005595  0.0   NaN  0.000646  0.009193     0     0    0   -1   \n4     1   NaN  0.004933  0.0   NaN  0.001833  0.005738     0     0    0   -1   \n\n       S_16  D_80  R_10  R_11      B_27  D_81  D_82      S_17  R_12      B_28  \\\n0  0.002271     0     0     0  0.002310     0     1  0.008033   1.0  0.084683   \n1  0.009810     0     0     0  0.001327     0     1  0.000760   1.0  0.081843   \n2  0.009362     0     0     0  0.007624     0     1  0.004056   1.0  0.081954   \n3  0.004876     0     0     0  0.000034     0     1  0.006969   1.0  0.060634   \n4  0.007447     0     0     0  0.002109     0     1  0.001770   1.0  0.062492   \n\n   R_13  D_83  R_14  R_15  D_84  R_16  B_29  B_30  S_18  D_86  D_87  R_17  \\\n0     0     0   0.0     0     0     0   NaN     0     0     0    -1     0   \n1     0     0   0.0     0     0     0   NaN     0     0     0    -1     0   \n2     0     0   0.0     0     0     0   NaN     0     0     0    -1     0   \n3     0     0   0.0     0     0     0   NaN     0     0     0    -1     0   \n4     0     0   0.0     0     0     0   NaN     0     0     0    -1     0   \n\n   R_18  D_88  B_31      S_19  R_19  B_32  S_20  R_20  R_21  B_33  D_89  R_22  \\\n0     0   NaN     1  0.002537     0     0     0     0     0     1     0     0   \n1     0   NaN     1  0.008427     0     0     0     0     0     1     0     0   \n2     0   NaN     1  0.007327     0     0     0     0     0     1     0     0   \n3     0   NaN     1  0.007053     0     0     0     0     0     1     0     0   \n4     0   NaN     1  0.007728     0     0     0     0     0     1     0     0   \n\n   R_23  D_91  D_92  D_93  D_94  R_24  R_25  D_96      S_22      S_23  \\\n0     0     3     1     0     0     0     0     0  0.894090  0.135561   \n1     0     3     1     0     0     0     0     0  0.902135  0.136333   \n2     0     3     1     0     0     0     0     0  0.939654  0.134938   \n3     0     3     1     0     0     0     0     0  0.913205  0.140058   \n4     0     3     1     0     0     0     0     0  0.921026  0.131620   \n\n       S_24      S_25      S_26     D_102  D_103     D_104     D_105  D_106  \\\n0  0.911191  0.974539  0.001243  0.766688      1  1.004587  0.893734     -1   \n1  0.919876  0.975625  0.004561  0.786007      1  1.004118  0.906841     -1   \n2  0.958699  0.974067  0.011736  0.806840      1  1.009285  0.928719     -1   \n3  0.926341  0.975499  0.007571  0.808214      1  1.004514  0.935383     -1   \n4  0.933479  0.978027  0.018200  0.822281      1  1.005735  0.953363     -1   \n\n   D_107      B_36      B_37  R_26      R_27  B_38  D_108  D_109  D_110  \\\n0      2  0.009968  0.004572    -1  1.008949     2     -1      0    NaN   \n1      2  0.003921  0.004654    -1  1.003205     2     -1      0    NaN   \n2      2  0.001264  0.019176    -1  1.000754     2     -1      0    NaN   \n3      2  0.002729  0.011720    -1  1.005338     2     -1      0    NaN   \n4      2  0.009998  0.017598    -1  1.003175     2     -1      0    NaN   \n\n   D_111  B_39  D_112      B_40      S_27  D_113  D_114     D_115  D_116  \\\n0     -1   NaN    1.0  0.210060  0.676922      0      1  0.238250      0   \n1     -1   NaN    1.0  0.184093  0.822281      0      1  0.247217      0   \n2     -1   NaN    1.0  0.154837  0.853498      0      1  0.239867      0   \n3     -1   NaN    1.0  0.153939  0.844667      0      1  0.240910      0   \n4     -1   NaN    1.0  0.120717  0.811199      0      1  0.247939      0   \n\n   D_117     D_118     D_119  D_120     D_121  D_122  D_123  D_124  D_125  \\\n0      5  0.232120  0.236266      0  0.702280      3      0     16      0   \n1      5  0.243532  0.241885      0  0.707017      3      0     16      0   \n2      5  0.240768  0.239710      0  0.704843      3      0     16      0   \n3      5  0.239400  0.240727      0  0.711546      3      0     16      0   \n4      5  0.244199  0.242325      0  0.705343      3      0     16      0   \n\n   D_126  D_127     D_128  D_129  B_41  B_42  D_130  D_131  D_132     D_133  \\\n0      2      1  1.007819      1     0   NaN    0.0    0.0    NaN  0.004345   \n1      2      1  1.004333      1     0   NaN    0.0    0.0    NaN  0.007495   \n2      2      1  1.007831      1     0   NaN    0.0    0.0    NaN  0.009227   \n3      2      1  1.003460      1     0   NaN    0.0    0.0    NaN  0.007206   \n4      2      1  1.005053      1     0   NaN    0.0    0.0    NaN  0.006312   \n\n   R_28  D_134  D_135  D_136  D_137  D_138  D_139  D_140  D_141  D_142  D_143  \\\n0     0    NaN     -1     -1     -1     -1      0      0    0.0    NaN      0   \n1     0    NaN     -1     -1     -1     -1      0      0    0.0    NaN      0   \n2     0    NaN     -1     -1     -1     -1      0      0    0.0    NaN      0   \n3     0    NaN     -1     -1     -1     -1      0      0    0.0    NaN      0   \n4     0    NaN     -1     -1     -1     -1      0      0    0.0    NaN      0   \n\n      D_144  D_145  target  \n0  0.000610      0       0  \n1  0.005492      0       0  \n2  0.006986      0       0  \n3  0.006527      0       0  \n4  0.008126      0       0  ",
      "text/html": "<div>\n<style scoped>\n    .dataframe tbody tr th:only-of-type {\n        vertical-align: middle;\n    }\n\n    .dataframe tbody tr th {\n        vertical-align: top;\n    }\n\n    .dataframe thead th {\n        text-align: right;\n    }\n</style>\n<table border=\"1\" class=\"dataframe\">\n  <thead>\n    <tr style=\"text-align: right;\">\n      <th></th>\n      <th>customer_ID</th>\n      <th>S_2</th>\n      <th>P_2</th>\n      <th>D_39</th>\n      <th>B_1</th>\n      <th>B_2</th>\n      <th>R_1</th>\n      <th>S_3</th>\n      <th>D_41</th>\n      <th>B_3</th>\n      <th>D_42</th>\n      <th>D_43</th>\n      <th>D_44</th>\n      <th>B_4</th>\n      <th>D_45</th>\n      <th>B_5</th>\n      <th>R_2</th>\n      <th>D_46</th>\n      <th>D_47</th>\n      <th>D_48</th>\n      <th>D_49</th>\n      <th>B_6</th>\n      <th>B_7</th>\n      <th>B_8</th>\n      <th>D_50</th>\n      <th>D_51</th>\n      <th>B_9</th>\n      <th>R_3</th>\n      <th>D_52</th>\n      <th>P_3</th>\n      <th>B_10</th>\n      <th>D_53</th>\n      <th>S_5</th>\n      <th>B_11</th>\n      <th>S_6</th>\n      <th>D_54</th>\n      <th>R_4</th>\n      <th>S_7</th>\n      <th>B_12</th>\n      <th>S_8</th>\n      <th>D_55</th>\n      <th>D_56</th>\n      <th>B_13</th>\n      <th>R_5</th>\n      <th>D_58</th>\n      <th>S_9</th>\n      <th>B_14</th>\n      <th>D_59</th>\n      <th>D_60</th>\n      <th>D_61</th>\n      <th>B_15</th>\n      <th>S_11</th>\n      <th>D_62</th>\n      <th>D_63</th>\n      <th>D_64</th>\n      <th>D_65</th>\n      <th>B_16</th>\n      <th>B_17</th>\n      <th>B_18</th>\n      <th>B_19</th>\n      <th>D_66</th>\n      <th>B_20</th>\n      <th>D_68</th>\n      <th>S_12</th>\n      <th>R_6</th>\n      <th>S_13</th>\n      <th>B_21</th>\n      <th>D_69</th>\n      <th>B_22</th>\n      <th>D_70</th>\n      <th>D_71</th>\n      <th>D_72</th>\n      <th>S_15</th>\n      <th>B_23</th>\n      <th>D_73</th>\n      <th>P_4</th>\n      <th>D_74</th>\n      <th>D_75</th>\n      <th>D_76</th>\n      <th>B_24</th>\n      <th>R_7</th>\n      <th>D_77</th>\n      <th>B_25</th>\n      <th>B_26</th>\n      <th>D_78</th>\n      <th>D_79</th>\n      <th>R_8</th>\n      <th>R_9</th>\n      <th>S_16</th>\n      <th>D_80</th>\n      <th>R_10</th>\n      <th>R_11</th>\n      <th>B_27</th>\n      <th>D_81</th>\n      <th>D_82</th>\n      <th>S_17</th>\n      <th>R_12</th>\n      <th>B_28</th>\n      <th>R_13</th>\n      <th>D_83</th>\n      <th>R_14</th>\n      <th>R_15</th>\n      <th>D_84</th>\n      <th>R_16</th>\n      <th>B_29</th>\n      <th>B_30</th>\n      <th>S_18</th>\n      <th>D_86</th>\n      <th>D_87</th>\n      <th>R_17</th>\n      <th>R_18</th>\n      <th>D_88</th>\n      <th>B_31</th>\n      <th>S_19</th>\n      <th>R_19</th>\n      <th>B_32</th>\n      <th>S_20</th>\n      <th>R_20</th>\n      <th>R_21</th>\n      <th>B_33</th>\n      <th>D_89</th>\n      <th>R_22</th>\n      <th>R_23</th>\n      <th>D_91</th>\n      <th>D_92</th>\n      <th>D_93</th>\n      <th>D_94</th>\n      <th>R_24</th>\n      <th>R_25</th>\n      <th>D_96</th>\n      <th>S_22</th>\n      <th>S_23</th>\n      <th>S_24</th>\n      <th>S_25</th>\n      <th>S_26</th>\n      <th>D_102</th>\n      <th>D_103</th>\n      <th>D_104</th>\n      <th>D_105</th>\n      <th>D_106</th>\n      <th>D_107</th>\n      <th>B_36</th>\n      <th>B_37</th>\n      <th>R_26</th>\n      <th>R_27</th>\n      <th>B_38</th>\n      <th>D_108</th>\n      <th>D_109</th>\n      <th>D_110</th>\n      <th>D_111</th>\n      <th>B_39</th>\n      <th>D_112</th>\n      <th>B_40</th>\n      <th>S_27</th>\n      <th>D_113</th>\n      <th>D_114</th>\n      <th>D_115</th>\n      <th>D_116</th>\n      <th>D_117</th>\n      <th>D_118</th>\n      <th>D_119</th>\n      <th>D_120</th>\n      <th>D_121</th>\n      <th>D_122</th>\n      <th>D_123</th>\n      <th>D_124</th>\n      <th>D_125</th>\n      <th>D_126</th>\n      <th>D_127</th>\n      <th>D_128</th>\n      <th>D_129</th>\n      <th>B_41</th>\n      <th>B_42</th>\n      <th>D_130</th>\n      <th>D_131</th>\n      <th>D_132</th>\n      <th>D_133</th>\n      <th>R_28</th>\n      <th>D_134</th>\n      <th>D_135</th>\n      <th>D_136</th>\n      <th>D_137</th>\n      <th>D_138</th>\n      <th>D_139</th>\n      <th>D_140</th>\n      <th>D_141</th>\n      <th>D_142</th>\n      <th>D_143</th>\n      <th>D_144</th>\n      <th>D_145</th>\n      <th>target</th>\n    </tr>\n  </thead>\n  <tbody>\n    <tr>\n      <th>0</th>\n      <td>0000099d6bd597052cdcda90ffabf56573fe9d7c79be5f...</td>\n      <td>2017-03-09</td>\n      <td>0.938469</td>\n      <td>0</td>\n      <td>0.008724</td>\n      <td>1.006838</td>\n      <td>0.009228</td>\n      <td>0.124035</td>\n      <td>0.0</td>\n      <td>0.004709</td>\n      <td>NaN</td>\n      <td>NaN</td>\n      <td>0</td>\n      <td>6</td>\n      <td>0.708906</td>\n      <td>0.170600</td>\n      <td>0</td>\n      <td>0.358587</td>\n      <td>0.525351</td>\n      <td>0.255736</td>\n      <td>-1</td>\n      <td>0.063902</td>\n      <td>0.059416</td>\n      <td>0.0</td>\n      <td>0.148698</td>\n      <td>4</td>\n      <td>0.008207</td>\n      <td>0</td>\n      <td>0.207334</td>\n      <td>0.736463</td>\n      <td>0.096219</td>\n      <td>NaN</td>\n      <td>0.023381</td>\n      <td>0.002768</td>\n      <td>0</td>\n      <td>1.0</td>\n      <td>0</td>\n      <td>0.161345</td>\n      <td>0.148266</td>\n      <td>2896</td>\n      <td>0.354596</td>\n      <td>0.152025</td>\n      <td>0.118075</td>\n      <td>0</td>\n      <td>0.158612</td>\n      <td>0.065728</td>\n      <td>0.018385</td>\n      <td>8</td>\n      <td>0.199617</td>\n      <td>0.308233</td>\n      <td>0.016361</td>\n      <td>15</td>\n      <td>0.091071</td>\n      <td>0</td>\n      <td>0</td>\n      <td>0</td>\n      <td>0</td>\n      <td>NaN</td>\n      <td>0.652984</td>\n      <td>0</td>\n      <td>-1</td>\n      <td>0</td>\n      <td>6</td>\n      <td>0.272008</td>\n      <td>0.008363</td>\n      <td>524</td>\n      <td>0.002644</td>\n      <td>0.009013</td>\n      <td>0</td>\n      <td>0</td>\n      <td>0.119403</td>\n      <td>0</td>\n      <td>4</td>\n      <td>0.050882</td>\n      <td>NaN</td>\n      <td>0.0</td>\n      <td>1</td>\n      <td>1</td>\n      <td>NaN</td>\n      <td>0.004327</td>\n      <td>0.0</td>\n      <td>NaN</td>\n      <td>0.007729</td>\n      <td>0.000272</td>\n      <td>0</td>\n      <td>0</td>\n      <td>0</td>\n      <td>-1</td>\n      <td>0.002271</td>\n      <td>0</td>\n      <td>0</td>\n      <td>0</td>\n      <td>0.002310</td>\n      <td>0</td>\n      <td>1</td>\n      <td>0.008033</td>\n      <td>1.0</td>\n      <td>0.084683</td>\n      <td>0</td>\n      <td>0</td>\n      <td>0.0</td>\n      <td>0</td>\n      <td>0</td>\n      <td>0</td>\n      <td>NaN</td>\n      <td>0</td>\n      <td>0</td>\n      <td>0</td>\n      <td>-1</td>\n      <td>0</td>\n      <td>0</td>\n      <td>NaN</td>\n      <td>1</td>\n      <td>0.002537</td>\n      <td>0</td>\n      <td>0</td>\n      <td>0</td>\n      <td>0</td>\n      <td>0</td>\n      <td>1</td>\n      <td>0</td>\n      <td>0</td>\n      <td>0</td>\n      <td>3</td>\n      <td>1</td>\n      <td>0</td>\n      <td>0</td>\n      <td>0</td>\n      <td>0</td>\n      <td>0</td>\n      <td>0.894090</td>\n      <td>0.135561</td>\n      <td>0.911191</td>\n      <td>0.974539</td>\n      <td>0.001243</td>\n      <td>0.766688</td>\n      <td>1</td>\n      <td>1.004587</td>\n      <td>0.893734</td>\n      <td>-1</td>\n      <td>2</td>\n      <td>0.009968</td>\n      <td>0.004572</td>\n      <td>-1</td>\n      <td>1.008949</td>\n      <td>2</td>\n      <td>-1</td>\n      <td>0</td>\n      <td>NaN</td>\n      <td>-1</td>\n      <td>NaN</td>\n      <td>1.0</td>\n      <td>0.210060</td>\n      <td>0.676922</td>\n      <td>0</td>\n      <td>1</td>\n      <td>0.238250</td>\n      <td>0</td>\n      <td>5</td>\n      <td>0.232120</td>\n      <td>0.236266</td>\n      <td>0</td>\n      <td>0.702280</td>\n      <td>3</td>\n      <td>0</td>\n      <td>16</td>\n      <td>0</td>\n      <td>2</td>\n      <td>1</td>\n      <td>1.007819</td>\n      <td>1</td>\n      <td>0</td>\n      <td>NaN</td>\n      <td>0.0</td>\n      <td>0.0</td>\n      <td>NaN</td>\n      <td>0.004345</td>\n      <td>0</td>\n      <td>NaN</td>\n      <td>-1</td>\n      <td>-1</td>\n      <td>-1</td>\n      <td>-1</td>\n      <td>0</td>\n      <td>0</td>\n      <td>0.0</td>\n      <td>NaN</td>\n      <td>0</td>\n      <td>0.000610</td>\n      <td>0</td>\n      <td>0</td>\n    </tr>\n    <tr>\n      <th>1</th>\n      <td>0000099d6bd597052cdcda90ffabf56573fe9d7c79be5f...</td>\n      <td>2017-04-07</td>\n      <td>0.936665</td>\n      <td>0</td>\n      <td>0.004923</td>\n      <td>1.000653</td>\n      <td>0.006151</td>\n      <td>0.126750</td>\n      <td>0.0</td>\n      <td>0.002714</td>\n      <td>NaN</td>\n      <td>NaN</td>\n      <td>0</td>\n      <td>5</td>\n      <td>0.712795</td>\n      <td>0.113239</td>\n      <td>0</td>\n      <td>0.353630</td>\n      <td>0.521311</td>\n      <td>0.223329</td>\n      <td>-1</td>\n      <td>0.065261</td>\n      <td>0.057744</td>\n      <td>0.0</td>\n      <td>0.149723</td>\n      <td>4</td>\n      <td>0.008373</td>\n      <td>0</td>\n      <td>0.202778</td>\n      <td>0.720886</td>\n      <td>0.099804</td>\n      <td>NaN</td>\n      <td>0.030599</td>\n      <td>0.002749</td>\n      <td>0</td>\n      <td>1.0</td>\n      <td>0</td>\n      <td>0.140951</td>\n      <td>0.143530</td>\n      <td>2896</td>\n      <td>0.326757</td>\n      <td>0.156201</td>\n      <td>0.118737</td>\n      <td>0</td>\n      <td>0.148459</td>\n      <td>0.093935</td>\n      <td>0.013035</td>\n      <td>8</td>\n      <td>0.151387</td>\n      <td>0.265026</td>\n      <td>0.017688</td>\n      <td>15</td>\n      <td>0.086805</td>\n      <td>0</td>\n      <td>0</td>\n      <td>0</td>\n      <td>0</td>\n      <td>NaN</td>\n      <td>0.647093</td>\n      <td>0</td>\n      <td>-1</td>\n      <td>0</td>\n      <td>6</td>\n      <td>0.188970</td>\n      <td>0.004030</td>\n      <td>524</td>\n      <td>0.004193</td>\n      <td>0.007842</td>\n      <td>0</td>\n      <td>0</td>\n      <td>0.140611</td>\n      <td>0</td>\n      <td>4</td>\n      <td>0.040469</td>\n      <td>NaN</td>\n      <td>0.0</td>\n      <td>1</td>\n      <td>1</td>\n      <td>NaN</td>\n      <td>0.004203</td>\n      <td>0.0</td>\n      <td>NaN</td>\n      <td>0.001864</td>\n      <td>0.000979</td>\n      <td>0</td>\n      <td>0</td>\n      <td>0</td>\n      <td>-1</td>\n      <td>0.009810</td>\n      <td>0</td>\n      <td>0</td>\n      <td>0</td>\n      <td>0.001327</td>\n      <td>0</td>\n      <td>1</td>\n      <td>0.000760</td>\n      <td>1.0</td>\n      <td>0.081843</td>\n      <td>0</td>\n      <td>0</td>\n      <td>0.0</td>\n      <td>0</td>\n      <td>0</td>\n      <td>0</td>\n      <td>NaN</td>\n      <td>0</td>\n      <td>0</td>\n      <td>0</td>\n      <td>-1</td>\n      <td>0</td>\n      <td>0</td>\n      <td>NaN</td>\n      <td>1</td>\n      <td>0.008427</td>\n      <td>0</td>\n      <td>0</td>\n      <td>0</td>\n      <td>0</td>\n      <td>0</td>\n      <td>1</td>\n      <td>0</td>\n      <td>0</td>\n      <td>0</td>\n      <td>3</td>\n      <td>1</td>\n      <td>0</td>\n      <td>0</td>\n      <td>0</td>\n      <td>0</td>\n      <td>0</td>\n      <td>0.902135</td>\n      <td>0.136333</td>\n      <td>0.919876</td>\n      <td>0.975625</td>\n      <td>0.004561</td>\n      <td>0.786007</td>\n      <td>1</td>\n      <td>1.004118</td>\n      <td>0.906841</td>\n      <td>-1</td>\n      <td>2</td>\n      <td>0.003921</td>\n      <td>0.004654</td>\n      <td>-1</td>\n      <td>1.003205</td>\n      <td>2</td>\n      <td>-1</td>\n      <td>0</td>\n      <td>NaN</td>\n      <td>-1</td>\n      <td>NaN</td>\n      <td>1.0</td>\n      <td>0.184093</td>\n      <td>0.822281</td>\n      <td>0</td>\n      <td>1</td>\n      <td>0.247217</td>\n      <td>0</td>\n      <td>5</td>\n      <td>0.243532</td>\n      <td>0.241885</td>\n      <td>0</td>\n      <td>0.707017</td>\n      <td>3</td>\n      <td>0</td>\n      <td>16</td>\n      <td>0</td>\n      <td>2</td>\n      <td>1</td>\n      <td>1.004333</td>\n      <td>1</td>\n      <td>0</td>\n      <td>NaN</td>\n      <td>0.0</td>\n      <td>0.0</td>\n      <td>NaN</td>\n      <td>0.007495</td>\n      <td>0</td>\n      <td>NaN</td>\n      <td>-1</td>\n      <td>-1</td>\n      <td>-1</td>\n      <td>-1</td>\n      <td>0</td>\n      <td>0</td>\n      <td>0.0</td>\n      <td>NaN</td>\n      <td>0</td>\n      <td>0.005492</td>\n      <td>0</td>\n      <td>0</td>\n    </tr>\n    <tr>\n      <th>2</th>\n      <td>0000099d6bd597052cdcda90ffabf56573fe9d7c79be5f...</td>\n      <td>2017-05-28</td>\n      <td>0.954180</td>\n      <td>3</td>\n      <td>0.021655</td>\n      <td>1.009672</td>\n      <td>0.006815</td>\n      <td>0.123977</td>\n      <td>0.0</td>\n      <td>0.009423</td>\n      <td>NaN</td>\n      <td>NaN</td>\n      <td>0</td>\n      <td>5</td>\n      <td>0.720884</td>\n      <td>0.060492</td>\n      <td>0</td>\n      <td>0.334650</td>\n      <td>0.524568</td>\n      <td>0.189424</td>\n      <td>-1</td>\n      <td>0.066982</td>\n      <td>0.056647</td>\n      <td>0.0</td>\n      <td>0.151955</td>\n      <td>4</td>\n      <td>0.009355</td>\n      <td>0</td>\n      <td>0.206629</td>\n      <td>0.738044</td>\n      <td>0.134073</td>\n      <td>NaN</td>\n      <td>0.048367</td>\n      <td>0.010077</td>\n      <td>0</td>\n      <td>1.0</td>\n      <td>0</td>\n      <td>0.112229</td>\n      <td>0.137014</td>\n      <td>3166</td>\n      <td>0.304124</td>\n      <td>0.153795</td>\n      <td>0.114534</td>\n      <td>0</td>\n      <td>0.139504</td>\n      <td>0.084757</td>\n      <td>0.056653</td>\n      <td>8</td>\n      <td>0.305883</td>\n      <td>0.212165</td>\n      <td>0.063955</td>\n      <td>15</td>\n      <td>0.094001</td>\n      <td>0</td>\n      <td>0</td>\n      <td>0</td>\n      <td>0</td>\n      <td>NaN</td>\n      <td>0.645819</td>\n      <td>0</td>\n      <td>-1</td>\n      <td>0</td>\n      <td>6</td>\n      <td>0.495308</td>\n      <td>0.006838</td>\n      <td>702</td>\n      <td>0.001337</td>\n      <td>0.006025</td>\n      <td>0</td>\n      <td>0</td>\n      <td>0.075868</td>\n      <td>0</td>\n      <td>4</td>\n      <td>0.047454</td>\n      <td>NaN</td>\n      <td>0.0</td>\n      <td>1</td>\n      <td>1</td>\n      <td>NaN</td>\n      <td>0.001782</td>\n      <td>0.0</td>\n      <td>NaN</td>\n      <td>0.005419</td>\n      <td>0.006149</td>\n      <td>0</td>\n      <td>0</td>\n      <td>0</td>\n      <td>-1</td>\n      <td>0.009362</td>\n      <td>0</td>\n      <td>0</td>\n      <td>0</td>\n      <td>0.007624</td>\n      <td>0</td>\n      <td>1</td>\n      <td>0.004056</td>\n      <td>1.0</td>\n      <td>0.081954</td>\n      <td>0</td>\n      <td>0</td>\n      <td>0.0</td>\n      <td>0</td>\n      <td>0</td>\n      <td>0</td>\n      <td>NaN</td>\n      <td>0</td>\n      <td>0</td>\n      <td>0</td>\n      <td>-1</td>\n      <td>0</td>\n      <td>0</td>\n      <td>NaN</td>\n      <td>1</td>\n      <td>0.007327</td>\n      <td>0</td>\n      <td>0</td>\n      <td>0</td>\n      <td>0</td>\n      <td>0</td>\n      <td>1</td>\n      <td>0</td>\n      <td>0</td>\n      <td>0</td>\n      <td>3</td>\n      <td>1</td>\n      <td>0</td>\n      <td>0</td>\n      <td>0</td>\n      <td>0</td>\n      <td>0</td>\n      <td>0.939654</td>\n      <td>0.134938</td>\n      <td>0.958699</td>\n      <td>0.974067</td>\n      <td>0.011736</td>\n      <td>0.806840</td>\n      <td>1</td>\n      <td>1.009285</td>\n      <td>0.928719</td>\n      <td>-1</td>\n      <td>2</td>\n      <td>0.001264</td>\n      <td>0.019176</td>\n      <td>-1</td>\n      <td>1.000754</td>\n      <td>2</td>\n      <td>-1</td>\n      <td>0</td>\n      <td>NaN</td>\n      <td>-1</td>\n      <td>NaN</td>\n      <td>1.0</td>\n      <td>0.154837</td>\n      <td>0.853498</td>\n      <td>0</td>\n      <td>1</td>\n      <td>0.239867</td>\n      <td>0</td>\n      <td>5</td>\n      <td>0.240768</td>\n      <td>0.239710</td>\n      <td>0</td>\n      <td>0.704843</td>\n      <td>3</td>\n      <td>0</td>\n      <td>16</td>\n      <td>0</td>\n      <td>2</td>\n      <td>1</td>\n      <td>1.007831</td>\n      <td>1</td>\n      <td>0</td>\n      <td>NaN</td>\n      <td>0.0</td>\n      <td>0.0</td>\n      <td>NaN</td>\n      <td>0.009227</td>\n      <td>0</td>\n      <td>NaN</td>\n      <td>-1</td>\n      <td>-1</td>\n      <td>-1</td>\n      <td>-1</td>\n      <td>0</td>\n      <td>0</td>\n      <td>0.0</td>\n      <td>NaN</td>\n      <td>0</td>\n      <td>0.006986</td>\n      <td>0</td>\n      <td>0</td>\n    </tr>\n    <tr>\n      <th>3</th>\n      <td>0000099d6bd597052cdcda90ffabf56573fe9d7c79be5f...</td>\n      <td>2017-06-13</td>\n      <td>0.960384</td>\n      <td>0</td>\n      <td>0.013683</td>\n      <td>1.002700</td>\n      <td>0.001373</td>\n      <td>0.117169</td>\n      <td>0.0</td>\n      <td>0.005531</td>\n      <td>NaN</td>\n      <td>NaN</td>\n      <td>0</td>\n      <td>4</td>\n      <td>0.723997</td>\n      <td>0.166782</td>\n      <td>0</td>\n      <td>0.323271</td>\n      <td>0.530929</td>\n      <td>0.135586</td>\n      <td>-1</td>\n      <td>0.083720</td>\n      <td>0.049253</td>\n      <td>0.0</td>\n      <td>0.151219</td>\n      <td>4</td>\n      <td>0.006782</td>\n      <td>0</td>\n      <td>0.208214</td>\n      <td>0.741813</td>\n      <td>0.134437</td>\n      <td>NaN</td>\n      <td>0.030063</td>\n      <td>0.009667</td>\n      <td>0</td>\n      <td>1.0</td>\n      <td>0</td>\n      <td>0.102838</td>\n      <td>0.129017</td>\n      <td>2218</td>\n      <td>0.275055</td>\n      <td>0.155772</td>\n      <td>0.120740</td>\n      <td>0</td>\n      <td>0.138100</td>\n      <td>0.048382</td>\n      <td>0.012498</td>\n      <td>8</td>\n      <td>0.273553</td>\n      <td>0.204300</td>\n      <td>0.022732</td>\n      <td>15</td>\n      <td>0.094854</td>\n      <td>0</td>\n      <td>0</td>\n      <td>0</td>\n      <td>0</td>\n      <td>NaN</td>\n      <td>0.654358</td>\n      <td>0</td>\n      <td>-1</td>\n      <td>0</td>\n      <td>6</td>\n      <td>0.508670</td>\n      <td>0.008183</td>\n      <td>524</td>\n      <td>0.008716</td>\n      <td>0.005271</td>\n      <td>0</td>\n      <td>0</td>\n      <td>0.150209</td>\n      <td>0</td>\n      <td>5</td>\n      <td>0.031705</td>\n      <td>NaN</td>\n      <td>0.0</td>\n      <td>1</td>\n      <td>1</td>\n      <td>NaN</td>\n      <td>0.005595</td>\n      <td>0.0</td>\n      <td>NaN</td>\n      <td>0.000646</td>\n      <td>0.009193</td>\n      <td>0</td>\n      <td>0</td>\n      <td>0</td>\n      <td>-1</td>\n      <td>0.004876</td>\n      <td>0</td>\n      <td>0</td>\n      <td>0</td>\n      <td>0.000034</td>\n      <td>0</td>\n      <td>1</td>\n      <td>0.006969</td>\n      <td>1.0</td>\n      <td>0.060634</td>\n      <td>0</td>\n      <td>0</td>\n      <td>0.0</td>\n      <td>0</td>\n      <td>0</td>\n      <td>0</td>\n      <td>NaN</td>\n      <td>0</td>\n      <td>0</td>\n      <td>0</td>\n      <td>-1</td>\n      <td>0</td>\n      <td>0</td>\n      <td>NaN</td>\n      <td>1</td>\n      <td>0.007053</td>\n      <td>0</td>\n      <td>0</td>\n      <td>0</td>\n      <td>0</td>\n      <td>0</td>\n      <td>1</td>\n      <td>0</td>\n      <td>0</td>\n      <td>0</td>\n      <td>3</td>\n      <td>1</td>\n      <td>0</td>\n      <td>0</td>\n      <td>0</td>\n      <td>0</td>\n      <td>0</td>\n      <td>0.913205</td>\n      <td>0.140058</td>\n      <td>0.926341</td>\n      <td>0.975499</td>\n      <td>0.007571</td>\n      <td>0.808214</td>\n      <td>1</td>\n      <td>1.004514</td>\n      <td>0.935383</td>\n      <td>-1</td>\n      <td>2</td>\n      <td>0.002729</td>\n      <td>0.011720</td>\n      <td>-1</td>\n      <td>1.005338</td>\n      <td>2</td>\n      <td>-1</td>\n      <td>0</td>\n      <td>NaN</td>\n      <td>-1</td>\n      <td>NaN</td>\n      <td>1.0</td>\n      <td>0.153939</td>\n      <td>0.844667</td>\n      <td>0</td>\n      <td>1</td>\n      <td>0.240910</td>\n      <td>0</td>\n      <td>5</td>\n      <td>0.239400</td>\n      <td>0.240727</td>\n      <td>0</td>\n      <td>0.711546</td>\n      <td>3</td>\n      <td>0</td>\n      <td>16</td>\n      <td>0</td>\n      <td>2</td>\n      <td>1</td>\n      <td>1.003460</td>\n      <td>1</td>\n      <td>0</td>\n      <td>NaN</td>\n      <td>0.0</td>\n      <td>0.0</td>\n      <td>NaN</td>\n      <td>0.007206</td>\n      <td>0</td>\n      <td>NaN</td>\n      <td>-1</td>\n      <td>-1</td>\n      <td>-1</td>\n      <td>-1</td>\n      <td>0</td>\n      <td>0</td>\n      <td>0.0</td>\n      <td>NaN</td>\n      <td>0</td>\n      <td>0.006527</td>\n      <td>0</td>\n      <td>0</td>\n    </tr>\n    <tr>\n      <th>4</th>\n      <td>0000099d6bd597052cdcda90ffabf56573fe9d7c79be5f...</td>\n      <td>2017-07-16</td>\n      <td>0.947248</td>\n      <td>0</td>\n      <td>0.015193</td>\n      <td>1.000727</td>\n      <td>0.007605</td>\n      <td>0.117325</td>\n      <td>0.0</td>\n      <td>0.009312</td>\n      <td>NaN</td>\n      <td>NaN</td>\n      <td>0</td>\n      <td>3</td>\n      <td>0.720619</td>\n      <td>0.143630</td>\n      <td>0</td>\n      <td>0.231009</td>\n      <td>0.529305</td>\n      <td>NaN</td>\n      <td>-1</td>\n      <td>0.075900</td>\n      <td>0.048918</td>\n      <td>0.0</td>\n      <td>0.154026</td>\n      <td>4</td>\n      <td>0.000519</td>\n      <td>0</td>\n      <td>0.205468</td>\n      <td>0.691986</td>\n      <td>0.121518</td>\n      <td>NaN</td>\n      <td>0.054221</td>\n      <td>0.009484</td>\n      <td>0</td>\n      <td>1.0</td>\n      <td>0</td>\n      <td>0.094311</td>\n      <td>0.129539</td>\n      <td>2896</td>\n      <td>0.231110</td>\n      <td>0.154914</td>\n      <td>0.095178</td>\n      <td>0</td>\n      <td>0.126443</td>\n      <td>0.039259</td>\n      <td>0.027897</td>\n      <td>8</td>\n      <td>0.233103</td>\n      <td>0.175655</td>\n      <td>0.031171</td>\n      <td>17</td>\n      <td>0.093915</td>\n      <td>0</td>\n      <td>0</td>\n      <td>0</td>\n      <td>0</td>\n      <td>NaN</td>\n      <td>0.650112</td>\n      <td>0</td>\n      <td>-1</td>\n      <td>0</td>\n      <td>6</td>\n      <td>0.216507</td>\n      <td>0.008605</td>\n      <td>524</td>\n      <td>0.006821</td>\n      <td>0.000152</td>\n      <td>0</td>\n      <td>0</td>\n      <td>0.096441</td>\n      <td>0</td>\n      <td>4</td>\n      <td>0.032733</td>\n      <td>NaN</td>\n      <td>0.0</td>\n      <td>1</td>\n      <td>1</td>\n      <td>NaN</td>\n      <td>0.004933</td>\n      <td>0.0</td>\n      <td>NaN</td>\n      <td>0.001833</td>\n      <td>0.005738</td>\n      <td>0</td>\n      <td>0</td>\n      <td>0</td>\n      <td>-1</td>\n      <td>0.007447</td>\n      <td>0</td>\n      <td>0</td>\n      <td>0</td>\n      <td>0.002109</td>\n      <td>0</td>\n      <td>1</td>\n      <td>0.001770</td>\n      <td>1.0</td>\n      <td>0.062492</td>\n      <td>0</td>\n      <td>0</td>\n      <td>0.0</td>\n      <td>0</td>\n      <td>0</td>\n      <td>0</td>\n      <td>NaN</td>\n      <td>0</td>\n      <td>0</td>\n      <td>0</td>\n      <td>-1</td>\n      <td>0</td>\n      <td>0</td>\n      <td>NaN</td>\n      <td>1</td>\n      <td>0.007728</td>\n      <td>0</td>\n      <td>0</td>\n      <td>0</td>\n      <td>0</td>\n      <td>0</td>\n      <td>1</td>\n      <td>0</td>\n      <td>0</td>\n      <td>0</td>\n      <td>3</td>\n      <td>1</td>\n      <td>0</td>\n      <td>0</td>\n      <td>0</td>\n      <td>0</td>\n      <td>0</td>\n      <td>0.921026</td>\n      <td>0.131620</td>\n      <td>0.933479</td>\n      <td>0.978027</td>\n      <td>0.018200</td>\n      <td>0.822281</td>\n      <td>1</td>\n      <td>1.005735</td>\n      <td>0.953363</td>\n      <td>-1</td>\n      <td>2</td>\n      <td>0.009998</td>\n      <td>0.017598</td>\n      <td>-1</td>\n      <td>1.003175</td>\n      <td>2</td>\n      <td>-1</td>\n      <td>0</td>\n      <td>NaN</td>\n      <td>-1</td>\n      <td>NaN</td>\n      <td>1.0</td>\n      <td>0.120717</td>\n      <td>0.811199</td>\n      <td>0</td>\n      <td>1</td>\n      <td>0.247939</td>\n      <td>0</td>\n      <td>5</td>\n      <td>0.244199</td>\n      <td>0.242325</td>\n      <td>0</td>\n      <td>0.705343</td>\n      <td>3</td>\n      <td>0</td>\n      <td>16</td>\n      <td>0</td>\n      <td>2</td>\n      <td>1</td>\n      <td>1.005053</td>\n      <td>1</td>\n      <td>0</td>\n      <td>NaN</td>\n      <td>0.0</td>\n      <td>0.0</td>\n      <td>NaN</td>\n      <td>0.006312</td>\n      <td>0</td>\n      <td>NaN</td>\n      <td>-1</td>\n      <td>-1</td>\n      <td>-1</td>\n      <td>-1</td>\n      <td>0</td>\n      <td>0</td>\n      <td>0.0</td>\n      <td>NaN</td>\n      <td>0</td>\n      <td>0.008126</td>\n      <td>0</td>\n      <td>0</td>\n    </tr>\n  </tbody>\n</table>\n</div>"
     },
     "execution_count": 19,
     "metadata": {},
     "output_type": "execute_result"
    }
   ],
   "source": [
    "pd.set_option('display.max_columns', None)\n",
    "train.head(5)"
   ],
   "metadata": {
    "collapsed": false,
    "pycharm": {
     "name": "#%%\n"
    }
   }
  },
  {
   "cell_type": "markdown",
   "source": [
    "Columnwise exploration"
   ],
   "metadata": {
    "collapsed": false,
    "pycharm": {
     "name": "#%% md\n"
    }
   }
  },
  {
   "cell_type": "code",
   "execution_count": 21,
   "outputs": [
    {
     "data": {
      "text/plain": "['B_1',\n 'B_2',\n 'B_3',\n 'B_4',\n 'B_5',\n 'B_6',\n 'B_7',\n 'B_8',\n 'B_9',\n 'B_10',\n 'B_11',\n 'B_12',\n 'B_13',\n 'B_14',\n 'B_15',\n 'B_16',\n 'B_17',\n 'B_18',\n 'B_19',\n 'B_20',\n 'B_21',\n 'B_22',\n 'B_23',\n 'B_24',\n 'B_25',\n 'B_26',\n 'B_27',\n 'B_28',\n 'B_29',\n 'B_30',\n 'B_31',\n 'B_32',\n 'B_33',\n 'B_36',\n 'B_37',\n 'B_38',\n 'B_39',\n 'B_40',\n 'B_41',\n 'B_42']"
     },
     "execution_count": 21,
     "metadata": {},
     "output_type": "execute_result"
    }
   ],
   "source": [
    "[col for col in train.columns if col.startswith('B')]"
   ],
   "metadata": {
    "collapsed": false,
    "pycharm": {
     "name": "#%%\n"
    }
   }
  },
  {
   "cell_type": "code",
   "execution_count": 22,
   "outputs": [
    {
     "name": "stdout",
     "output_type": "stream",
     "text": [
      "0.0 1.2693903 False\n"
     ]
    }
   ],
   "source": [
    "print(train.P_4.min(), train.P_4.max(), train.P_4.isna().any())"
   ],
   "metadata": {
    "collapsed": false,
    "pycharm": {
     "name": "#%%\n"
    }
   }
  },
  {
   "cell_type": "code",
   "execution_count": 23,
   "outputs": [],
   "source": [
    "train_sorted = train.sort_values(by= ['P_4'],ascending=True)"
   ],
   "metadata": {
    "collapsed": false,
    "pycharm": {
     "name": "#%%\n"
    }
   }
  },
  {
   "cell_type": "code",
   "execution_count": 24,
   "outputs": [
    {
     "data": {
      "text/plain": "              P_2       P_3  P_4  payment  target\n0        0.938469  0.736463  0.0      0.0       0\n3544325  0.725292  0.708120  0.0      0.0       0\n3544324  0.711196  0.763677  0.0      0.0       0\n3544323  0.707656  0.765662  0.0      0.0       0\n3544322  0.709780  0.720389  0.0      0.0       0\n3544321  0.683349  0.693330  0.0      0.0       0\n3544320  0.683998  0.662207  0.0      0.0       0\n3544319  0.681609  0.775290  0.0      0.0       0\n3544318  0.640237  0.690129  0.0      0.0       0\n3544316  0.372232 -0.555310  0.0     -0.0       0\n3544315  0.869427  0.637034  0.0      0.0       0\n3544314  0.871747  0.635986  0.0      0.0       0\n3544313  0.865322  0.658623  0.0      0.0       0\n3544312  0.869289  0.660254  0.0      0.0       0\n3544311  0.875539  0.659762  0.0      0.0       0\n3544310  0.871547  0.585088  0.0      0.0       0\n3544326  0.723071  0.724763  0.0      0.0       0\n3544309  0.804359  0.505694  0.0      0.0       0\n3544327  0.724483  0.692594  0.0      0.0       0\n3544329  0.719371  0.683230  0.0      0.0       0",
      "text/html": "<div>\n<style scoped>\n    .dataframe tbody tr th:only-of-type {\n        vertical-align: middle;\n    }\n\n    .dataframe tbody tr th {\n        vertical-align: top;\n    }\n\n    .dataframe thead th {\n        text-align: right;\n    }\n</style>\n<table border=\"1\" class=\"dataframe\">\n  <thead>\n    <tr style=\"text-align: right;\">\n      <th></th>\n      <th>P_2</th>\n      <th>P_3</th>\n      <th>P_4</th>\n      <th>payment</th>\n      <th>target</th>\n    </tr>\n  </thead>\n  <tbody>\n    <tr>\n      <th>0</th>\n      <td>0.938469</td>\n      <td>0.736463</td>\n      <td>0.0</td>\n      <td>0.0</td>\n      <td>0</td>\n    </tr>\n    <tr>\n      <th>3544325</th>\n      <td>0.725292</td>\n      <td>0.708120</td>\n      <td>0.0</td>\n      <td>0.0</td>\n      <td>0</td>\n    </tr>\n    <tr>\n      <th>3544324</th>\n      <td>0.711196</td>\n      <td>0.763677</td>\n      <td>0.0</td>\n      <td>0.0</td>\n      <td>0</td>\n    </tr>\n    <tr>\n      <th>3544323</th>\n      <td>0.707656</td>\n      <td>0.765662</td>\n      <td>0.0</td>\n      <td>0.0</td>\n      <td>0</td>\n    </tr>\n    <tr>\n      <th>3544322</th>\n      <td>0.709780</td>\n      <td>0.720389</td>\n      <td>0.0</td>\n      <td>0.0</td>\n      <td>0</td>\n    </tr>\n    <tr>\n      <th>3544321</th>\n      <td>0.683349</td>\n      <td>0.693330</td>\n      <td>0.0</td>\n      <td>0.0</td>\n      <td>0</td>\n    </tr>\n    <tr>\n      <th>3544320</th>\n      <td>0.683998</td>\n      <td>0.662207</td>\n      <td>0.0</td>\n      <td>0.0</td>\n      <td>0</td>\n    </tr>\n    <tr>\n      <th>3544319</th>\n      <td>0.681609</td>\n      <td>0.775290</td>\n      <td>0.0</td>\n      <td>0.0</td>\n      <td>0</td>\n    </tr>\n    <tr>\n      <th>3544318</th>\n      <td>0.640237</td>\n      <td>0.690129</td>\n      <td>0.0</td>\n      <td>0.0</td>\n      <td>0</td>\n    </tr>\n    <tr>\n      <th>3544316</th>\n      <td>0.372232</td>\n      <td>-0.555310</td>\n      <td>0.0</td>\n      <td>-0.0</td>\n      <td>0</td>\n    </tr>\n    <tr>\n      <th>3544315</th>\n      <td>0.869427</td>\n      <td>0.637034</td>\n      <td>0.0</td>\n      <td>0.0</td>\n      <td>0</td>\n    </tr>\n    <tr>\n      <th>3544314</th>\n      <td>0.871747</td>\n      <td>0.635986</td>\n      <td>0.0</td>\n      <td>0.0</td>\n      <td>0</td>\n    </tr>\n    <tr>\n      <th>3544313</th>\n      <td>0.865322</td>\n      <td>0.658623</td>\n      <td>0.0</td>\n      <td>0.0</td>\n      <td>0</td>\n    </tr>\n    <tr>\n      <th>3544312</th>\n      <td>0.869289</td>\n      <td>0.660254</td>\n      <td>0.0</td>\n      <td>0.0</td>\n      <td>0</td>\n    </tr>\n    <tr>\n      <th>3544311</th>\n      <td>0.875539</td>\n      <td>0.659762</td>\n      <td>0.0</td>\n      <td>0.0</td>\n      <td>0</td>\n    </tr>\n    <tr>\n      <th>3544310</th>\n      <td>0.871547</td>\n      <td>0.585088</td>\n      <td>0.0</td>\n      <td>0.0</td>\n      <td>0</td>\n    </tr>\n    <tr>\n      <th>3544326</th>\n      <td>0.723071</td>\n      <td>0.724763</td>\n      <td>0.0</td>\n      <td>0.0</td>\n      <td>0</td>\n    </tr>\n    <tr>\n      <th>3544309</th>\n      <td>0.804359</td>\n      <td>0.505694</td>\n      <td>0.0</td>\n      <td>0.0</td>\n      <td>0</td>\n    </tr>\n    <tr>\n      <th>3544327</th>\n      <td>0.724483</td>\n      <td>0.692594</td>\n      <td>0.0</td>\n      <td>0.0</td>\n      <td>0</td>\n    </tr>\n    <tr>\n      <th>3544329</th>\n      <td>0.719371</td>\n      <td>0.683230</td>\n      <td>0.0</td>\n      <td>0.0</td>\n      <td>0</td>\n    </tr>\n  </tbody>\n</table>\n</div>"
     },
     "execution_count": 24,
     "metadata": {},
     "output_type": "execute_result"
    }
   ],
   "source": [
    "train_sorted['payment'] = train_sorted.P_2 * train_sorted.P_3 * train_sorted.P_4\n",
    "train_sorted[['P_2', 'P_3', 'P_4', 'payment', 'target']].head(20) #[['P_2', 'D_39', 'target']]"
   ],
   "metadata": {
    "collapsed": false,
    "pycharm": {
     "name": "#%%\n"
    }
   }
  },
  {
   "cell_type": "code",
   "execution_count": 25,
   "outputs": [
    {
     "name": "stdout",
     "output_type": "stream",
     "text": [
      "Train statement dates 2017-03-01 2018-03-31 False\n",
      "Test statement dates 2018-04-01 2019-10-31 False\n"
     ]
    }
   ],
   "source": [
    "#Statement dates in the test set are more current than the Train dates, meaning we are training from past statements to predict customers on future dates:\n",
    "print('Train statement dates', train.S_2.min(), train.S_2.max(), train.S_2.isna().any())\n",
    "print('Test statement dates', test.S_2.min(), test.S_2.max(), test.S_2.isna().any())"
   ],
   "metadata": {
    "collapsed": false,
    "pycharm": {
     "name": "#%%\n"
    }
   }
  },
  {
   "cell_type": "code",
   "execution_count": 42,
   "outputs": [
    {
     "name": "stdout",
     "output_type": "stream",
     "text": [
      "Train data memory usage: 2.72147402 GBytes\n",
      "Test data memory usage:  5.602334794 GBytes\n"
     ]
    }
   ],
   "source": [
    "print(f'Train data memory usage: {train.memory_usage().sum() / 1e9} GBytes')\n",
    "print(f'Test data memory usage:  {test.memory_usage().sum() / 1e9} GBytes')"
   ],
   "metadata": {
    "collapsed": false,
    "pycharm": {
     "name": "#%%\n"
    }
   }
  },
  {
   "cell_type": "code",
   "execution_count": 44,
   "outputs": [
    {
     "name": "stdout",
     "output_type": "stream",
     "text": [
      "<class 'pandas.core.frame.DataFrame'>\n",
      "RangeIndex: 5531451 entries, 0 to 5531450\n",
      "Data columns (total 190 columns):\n",
      " #    Column       Non-Null Count    Dtype  \n",
      "---   ------       --------------    -----  \n",
      " 0    customer_ID  5531451 non-null  object \n",
      " 1    S_2          5531451 non-null  object \n",
      " 2    P_2          5485466 non-null  float32\n",
      " 3    D_39         5531451 non-null  int16  \n",
      " 4    B_1          5531451 non-null  float32\n",
      " 5    B_2          5529435 non-null  float32\n",
      " 6    R_1          5531451 non-null  float32\n",
      " 7    S_3          4510907 non-null  float32\n",
      " 8    D_41         5529435 non-null  float32\n",
      " 9    B_3          5529435 non-null  float32\n",
      " 10   D_42         791314 non-null   float32\n",
      " 11   D_43         3873055 non-null  float32\n",
      " 12   D_44         5531451 non-null  int8   \n",
      " 13   B_4          5531451 non-null  int16  \n",
      " 14   D_45         5529434 non-null  float32\n",
      " 15   B_5          5531451 non-null  float32\n",
      " 16   R_2          5531451 non-null  int8   \n",
      " 17   D_46         4319752 non-null  float32\n",
      " 18   D_47         5531451 non-null  float32\n",
      " 19   D_48         4812726 non-null  float32\n",
      " 20   D_49         5531451 non-null  int16  \n",
      " 21   B_6          5531218 non-null  float32\n",
      " 22   B_7          5531451 non-null  float32\n",
      " 23   B_8          5509183 non-null  float32\n",
      " 24   D_50         2389049 non-null  float32\n",
      " 25   D_51         5531451 non-null  int8   \n",
      " 26   B_9          5531451 non-null  float32\n",
      " 27   R_3          5531451 non-null  int8   \n",
      " 28   D_52         5501888 non-null  float32\n",
      " 29   P_3          5229959 non-null  float32\n",
      " 30   B_10         5531451 non-null  float32\n",
      " 31   D_53         1446866 non-null  float32\n",
      " 32   S_5          5531451 non-null  float32\n",
      " 33   B_11         5531451 non-null  float32\n",
      " 34   S_6          5531451 non-null  int8   \n",
      " 35   D_54         5529435 non-null  float32\n",
      " 36   R_4          5531451 non-null  int8   \n",
      " 37   S_7          4510907 non-null  float32\n",
      " 38   B_12         5531451 non-null  float32\n",
      " 39   S_8          5531451 non-null  int16  \n",
      " 40   D_55         5346648 non-null  float32\n",
      " 41   D_56         2540508 non-null  float32\n",
      " 42   B_13         5481932 non-null  float32\n",
      " 43   R_5          5531451 non-null  int8   \n",
      " 44   D_58         5531451 non-null  float32\n",
      " 45   S_9          2597808 non-null  float32\n",
      " 46   B_14         5531451 non-null  float32\n",
      " 47   D_59         5531451 non-null  int8   \n",
      " 48   D_60         5531451 non-null  float32\n",
      " 49   D_61         4933399 non-null  float32\n",
      " 50   B_15         5524528 non-null  float32\n",
      " 51   S_11         5531451 non-null  int8   \n",
      " 52   D_62         4773290 non-null  float32\n",
      " 53   D_63         5531451 non-null  int8   \n",
      " 54   D_64         5531451 non-null  int8   \n",
      " 55   D_65         5531451 non-null  int16  \n",
      " 56   B_16         5531451 non-null  int8   \n",
      " 57   B_17         2393853 non-null  float32\n",
      " 58   B_18         5531451 non-null  float32\n",
      " 59   B_19         5531451 non-null  int8   \n",
      " 60   D_66         5531451 non-null  int8   \n",
      " 61   B_20         5531451 non-null  int8   \n",
      " 62   D_68         5531451 non-null  int8   \n",
      " 63   S_12         5531451 non-null  float32\n",
      " 64   R_6          5531451 non-null  float32\n",
      " 65   S_13         5531451 non-null  int16  \n",
      " 66   B_21         5531451 non-null  float32\n",
      " 67   D_69         5336978 non-null  float32\n",
      " 68   B_22         5531451 non-null  int8   \n",
      " 69   D_70         5531451 non-null  int8   \n",
      " 70   D_71         5531451 non-null  float32\n",
      " 71   D_72         5531451 non-null  int8   \n",
      " 72   S_15         5531451 non-null  int8   \n",
      " 73   B_23         5531451 non-null  float32\n",
      " 74   D_73         55856 non-null    float32\n",
      " 75   P_4          5531451 non-null  float32\n",
      " 76   D_74         5531451 non-null  int8   \n",
      " 77   D_75         5531451 non-null  int8   \n",
      " 78   D_76         622497 non-null   float32\n",
      " 79   B_24         5531451 non-null  float32\n",
      " 80   R_7          5531450 non-null  float32\n",
      " 81   D_77         3017539 non-null  float32\n",
      " 82   B_25         5524528 non-null  float32\n",
      " 83   B_26         5529435 non-null  float32\n",
      " 84   D_78         5531451 non-null  int8   \n",
      " 85   D_79         5531451 non-null  int8   \n",
      " 86   R_8          5531451 non-null  int8   \n",
      " 87   R_9          5531451 non-null  int8   \n",
      " 88   S_16         5531451 non-null  float32\n",
      " 89   D_80         5531451 non-null  int8   \n",
      " 90   R_10         5531451 non-null  int8   \n",
      " 91   R_11         5531451 non-null  int8   \n",
      " 92   B_27         5529435 non-null  float32\n",
      " 93   D_81         5531451 non-null  int8   \n",
      " 94   D_82         5531451 non-null  int8   \n",
      " 95   S_17         5531451 non-null  float32\n",
      " 96   R_12         5531395 non-null  float32\n",
      " 97   B_28         5531451 non-null  float32\n",
      " 98   R_13         5531451 non-null  int8   \n",
      " 99   D_83         5531451 non-null  int8   \n",
      " 100  R_14         5531450 non-null  float32\n",
      " 101  R_15         5531451 non-null  int8   \n",
      " 102  D_84         5531451 non-null  int8   \n",
      " 103  R_16         5531451 non-null  int8   \n",
      " 104  B_29         381416 non-null   float32\n",
      " 105  B_30         5531451 non-null  int8   \n",
      " 106  S_18         5531451 non-null  int8   \n",
      " 107  D_86         5531451 non-null  int8   \n",
      " 108  D_87         5531451 non-null  int8   \n",
      " 109  R_17         5531451 non-null  int8   \n",
      " 110  R_18         5531451 non-null  int8   \n",
      " 111  D_88         6004 non-null     float32\n",
      " 112  B_31         5531451 non-null  int8   \n",
      " 113  S_19         5531451 non-null  float32\n",
      " 114  R_19         5531451 non-null  int8   \n",
      " 115  B_32         5531451 non-null  int8   \n",
      " 116  S_20         5531451 non-null  int8   \n",
      " 117  R_20         5531451 non-null  int8   \n",
      " 118  R_21         5531451 non-null  int8   \n",
      " 119  B_33         5531451 non-null  int8   \n",
      " 120  D_89         5531451 non-null  int8   \n",
      " 121  R_22         5531451 non-null  int8   \n",
      " 122  R_23         5531451 non-null  int8   \n",
      " 123  D_91         5531451 non-null  int8   \n",
      " 124  D_92         5531451 non-null  int8   \n",
      " 125  D_93         5531451 non-null  int8   \n",
      " 126  D_94         5531451 non-null  int8   \n",
      " 127  R_24         5531451 non-null  int8   \n",
      " 128  R_25         5531451 non-null  int8   \n",
      " 129  D_96         5531451 non-null  int8   \n",
      " 130  S_22         5512427 non-null  float32\n",
      " 131  S_23         5531006 non-null  float32\n",
      " 132  S_24         5512858 non-null  float32\n",
      " 133  S_25         5518604 non-null  float32\n",
      " 134  S_26         5530817 non-null  float32\n",
      " 135  D_102        5490796 non-null  float32\n",
      " 136  D_103        5531451 non-null  int8   \n",
      " 137  D_104        5429903 non-null  float32\n",
      " 138  D_105        2510020 non-null  float32\n",
      " 139  D_106        5531451 non-null  int16  \n",
      " 140  D_107        5531451 non-null  int8   \n",
      " 141  B_36         5531451 non-null  float32\n",
      " 142  B_37         5531395 non-null  float32\n",
      " 143  R_26         5531451 non-null  int16  \n",
      " 144  R_27         5402748 non-null  float32\n",
      " 145  B_38         5531451 non-null  int8   \n",
      " 146  D_108        5531451 non-null  int8   \n",
      " 147  D_109        5531451 non-null  int8   \n",
      " 148  D_110        31334 non-null    float32\n",
      " 149  D_111        5531451 non-null  int8   \n",
      " 150  B_39         33632 non-null    float32\n",
      " 151  D_112        5528801 non-null  float32\n",
      " 152  B_40         5531398 non-null  float32\n",
      " 153  S_27         4130516 non-null  float32\n",
      " 154  D_113        5531451 non-null  int8   \n",
      " 155  D_114        5531451 non-null  int8   \n",
      " 156  D_115        5354735 non-null  float32\n",
      " 157  D_116        5531451 non-null  int8   \n",
      " 158  D_117        5531451 non-null  int8   \n",
      " 159  D_118        5354735 non-null  float32\n",
      " 160  D_119        5354735 non-null  float32\n",
      " 161  D_120        5531451 non-null  int8   \n",
      " 162  D_121        5354735 non-null  float32\n",
      " 163  D_122        5531451 non-null  int8   \n",
      " 164  D_123        5531451 non-null  int8   \n",
      " 165  D_124        5531451 non-null  int16  \n",
      " 166  D_125        5531451 non-null  int8   \n",
      " 167  D_126        5531451 non-null  int8   \n",
      " 168  D_127        5531451 non-null  int8   \n",
      " 169  D_128        5429903 non-null  float32\n",
      " 170  D_129        5531451 non-null  int8   \n",
      " 171  B_41         5531451 non-null  int8   \n",
      " 172  B_42         71478 non-null    float32\n",
      " 173  D_130        5429903 non-null  float32\n",
      " 174  D_131        5429903 non-null  float32\n",
      " 175  D_132        542577 non-null   float32\n",
      " 176  D_133        5488735 non-null  float32\n",
      " 177  R_28         5531451 non-null  int8   \n",
      " 178  D_134        194699 non-null   float32\n",
      " 179  D_135        5531451 non-null  int8   \n",
      " 180  D_136        5531451 non-null  int8   \n",
      " 181  D_137        5531451 non-null  int8   \n",
      " 182  D_138        5531451 non-null  int8   \n",
      " 183  D_139        5531451 non-null  int8   \n",
      " 184  D_140        5531451 non-null  int8   \n",
      " 185  D_141        5429903 non-null  float32\n",
      " 186  D_142        944408 non-null   float32\n",
      " 187  D_143        5531451 non-null  int8   \n",
      " 188  D_144        5490724 non-null  float32\n",
      " 189  D_145        5531451 non-null  int8   \n",
      "dtypes: float32(93), int16(9), int8(86), object(2)\n",
      "memory usage: 2.5+ GB\n"
     ]
    }
   ],
   "source": [
    "train.info(max_cols= 200, show_counts= True)"
   ],
   "metadata": {
    "collapsed": false,
    "pycharm": {
     "name": "#%%\n"
    }
   }
  },
  {
   "cell_type": "code",
   "execution_count": 26,
   "outputs": [],
   "source": [
    "dic = {'S':  0, 'B' : 0, 'D': 0, 'P':  0, 'R': 0}\n",
    "for col in train.columns:\n",
    "    if col.startswith('S'):\n",
    "        dic['S'] += 1\n",
    "    elif col.startswith('B'):\n",
    "        dic['B'] += 1\n",
    "    elif col.startswith('D'):\n",
    "        dic['D'] += 1\n",
    "    elif col.startswith('P'):\n",
    "        dic['P'] += 1\n",
    "    elif col.startswith('R'):\n",
    "        dic['R'] += 1"
   ],
   "metadata": {
    "collapsed": false,
    "pycharm": {
     "name": "#%%\n"
    }
   }
  },
  {
   "cell_type": "code",
   "execution_count": 27,
   "outputs": [
    {
     "data": {
      "text/plain": "{'S': 22, 'B': 40, 'D': 96, 'P': 3, 'R': 28}"
     },
     "execution_count": 27,
     "metadata": {},
     "output_type": "execute_result"
    }
   ],
   "source": [
    "dic"
   ],
   "metadata": {
    "collapsed": false,
    "pycharm": {
     "name": "#%%\n"
    }
   }
  },
  {
   "cell_type": "code",
   "execution_count": 102,
   "outputs": [],
   "source": [
    "temp = train['D_39'].value_counts().to_dict()\n",
    "train['del_count'] = train['D_39'].map(temp)"
   ],
   "metadata": {
    "collapsed": false,
    "pycharm": {
     "name": "#%%\n"
    }
   }
  },
  {
   "cell_type": "code",
   "execution_count": 103,
   "outputs": [
    {
     "data": {
      "text/plain": "                                         customer_ID         S_2       P_2  \\\n0  0000099d6bd597052cdcda90ffabf56573fe9d7c79be5f...  2017-03-09  0.938469   \n1  0000099d6bd597052cdcda90ffabf56573fe9d7c79be5f...  2017-04-07  0.936665   \n2  0000099d6bd597052cdcda90ffabf56573fe9d7c79be5f...  2017-05-28  0.954180   \n3  0000099d6bd597052cdcda90ffabf56573fe9d7c79be5f...  2017-06-13  0.960384   \n4  0000099d6bd597052cdcda90ffabf56573fe9d7c79be5f...  2017-07-16  0.947248   \n\n   D_39       B_1       B_2       R_1       S_3  D_41       B_3  D_42  D_43  \\\n0     0  0.008724  1.006838  0.009228  0.124035   0.0  0.004709   NaN   NaN   \n1     0  0.004923  1.000653  0.006151  0.126750   0.0  0.002714   NaN   NaN   \n2     3  0.021655  1.009672  0.006815  0.123977   0.0  0.009423   NaN   NaN   \n3     0  0.013683  1.002700  0.001373  0.117169   0.0  0.005531   NaN   NaN   \n4     0  0.015193  1.000727  0.007605  0.117325   0.0  0.009312   NaN   NaN   \n\n   D_44  B_4      D_45       B_5  R_2      D_46      D_47      D_48  D_49  \\\n0     0    6  0.708906  0.170600    0  0.358587  0.525351  0.255736    -1   \n1     0    5  0.712795  0.113239    0  0.353630  0.521311  0.223329    -1   \n2     0    5  0.720884  0.060492    0  0.334650  0.524568  0.189424    -1   \n3     0    4  0.723997  0.166782    0  0.323271  0.530929  0.135586    -1   \n4     0    3  0.720619  0.143630    0  0.231009  0.529305       NaN    -1   \n\n        B_6       B_7  B_8      D_50  D_51       B_9  R_3      D_52       P_3  \\\n0  0.063902  0.059416  0.0  0.148698     4  0.008207    0  0.207334  0.736463   \n1  0.065261  0.057744  0.0  0.149723     4  0.008373    0  0.202778  0.720886   \n2  0.066982  0.056647  0.0  0.151955     4  0.009355    0  0.206629  0.738044   \n3  0.083720  0.049253  0.0  0.151219     4  0.006782    0  0.208214  0.741813   \n4  0.075900  0.048918  0.0  0.154026     4  0.000519    0  0.205468  0.691986   \n\n       B_10  D_53       S_5      B_11  S_6  D_54  R_4       S_7      B_12  \\\n0  0.096219   NaN  0.023381  0.002768    0   1.0    0  0.161345  0.148266   \n1  0.099804   NaN  0.030599  0.002749    0   1.0    0  0.140951  0.143530   \n2  0.134073   NaN  0.048367  0.010077    0   1.0    0  0.112229  0.137014   \n3  0.134437   NaN  0.030063  0.009667    0   1.0    0  0.102838  0.129017   \n4  0.121518   NaN  0.054221  0.009484    0   1.0    0  0.094311  0.129539   \n\n    S_8      D_55      D_56      B_13  R_5      D_58       S_9      B_14  \\\n0  2896  0.354596  0.152025  0.118075    0  0.158612  0.065728  0.018385   \n1  2896  0.326757  0.156201  0.118737    0  0.148459  0.093935  0.013035   \n2  3166  0.304124  0.153795  0.114534    0  0.139504  0.084757  0.056653   \n3  2218  0.275055  0.155772  0.120740    0  0.138100  0.048382  0.012498   \n4  2896  0.231110  0.154914  0.095178    0  0.126443  0.039259  0.027897   \n\n   D_59      D_60      D_61      B_15  S_11      D_62  D_63  D_64  D_65  B_16  \\\n0     8  0.199617  0.308233  0.016361    15  0.091071     0     0     0     0   \n1     8  0.151387  0.265026  0.017688    15  0.086805     0     0     0     0   \n2     8  0.305883  0.212165  0.063955    15  0.094001     0     0     0     0   \n3     8  0.273553  0.204300  0.022732    15  0.094854     0     0     0     0   \n4     8  0.233103  0.175655  0.031171    17  0.093915     0     0     0     0   \n\n   B_17      B_18  B_19  D_66  B_20  D_68      S_12       R_6  S_13      B_21  \\\n0   NaN  0.652984     0    -1     0     6  0.272008  0.008363   524  0.002644   \n1   NaN  0.647093     0    -1     0     6  0.188970  0.004030   524  0.004193   \n2   NaN  0.645819     0    -1     0     6  0.495308  0.006838   702  0.001337   \n3   NaN  0.654358     0    -1     0     6  0.508670  0.008183   524  0.008716   \n4   NaN  0.650112     0    -1     0     6  0.216507  0.008605   524  0.006821   \n\n       D_69  B_22  D_70      D_71  D_72  S_15      B_23  D_73  P_4  D_74  \\\n0  0.009013     0     0  0.119403     0     4  0.050882   NaN  0.0     1   \n1  0.007842     0     0  0.140611     0     4  0.040469   NaN  0.0     1   \n2  0.006025     0     0  0.075868     0     4  0.047454   NaN  0.0     1   \n3  0.005271     0     0  0.150209     0     5  0.031705   NaN  0.0     1   \n4  0.000152     0     0  0.096441     0     4  0.032733   NaN  0.0     1   \n\n   D_75  D_76      B_24  R_7  D_77      B_25      B_26  D_78  D_79  R_8  R_9  \\\n0     1   NaN  0.004327  0.0   NaN  0.007729  0.000272     0     0    0   -1   \n1     1   NaN  0.004203  0.0   NaN  0.001864  0.000979     0     0    0   -1   \n2     1   NaN  0.001782  0.0   NaN  0.005419  0.006149     0     0    0   -1   \n3     1   NaN  0.005595  0.0   NaN  0.000646  0.009193     0     0    0   -1   \n4     1   NaN  0.004933  0.0   NaN  0.001833  0.005738     0     0    0   -1   \n\n       S_16  D_80  R_10  R_11      B_27  D_81  D_82      S_17  R_12      B_28  \\\n0  0.002271     0     0     0  0.002310     0     1  0.008033   1.0  0.084683   \n1  0.009810     0     0     0  0.001327     0     1  0.000760   1.0  0.081843   \n2  0.009362     0     0     0  0.007624     0     1  0.004056   1.0  0.081954   \n3  0.004876     0     0     0  0.000034     0     1  0.006969   1.0  0.060634   \n4  0.007447     0     0     0  0.002109     0     1  0.001770   1.0  0.062492   \n\n   R_13  D_83  R_14  R_15  D_84  R_16  B_29  B_30  S_18  D_86  D_87  R_17  \\\n0     0     0   0.0     0     0     0   NaN     0     0     0    -1     0   \n1     0     0   0.0     0     0     0   NaN     0     0     0    -1     0   \n2     0     0   0.0     0     0     0   NaN     0     0     0    -1     0   \n3     0     0   0.0     0     0     0   NaN     0     0     0    -1     0   \n4     0     0   0.0     0     0     0   NaN     0     0     0    -1     0   \n\n   R_18  D_88  B_31      S_19  R_19  B_32  S_20  R_20  R_21  B_33  D_89  R_22  \\\n0     0   NaN     1  0.002537     0     0     0     0     0     1     0     0   \n1     0   NaN     1  0.008427     0     0     0     0     0     1     0     0   \n2     0   NaN     1  0.007327     0     0     0     0     0     1     0     0   \n3     0   NaN     1  0.007053     0     0     0     0     0     1     0     0   \n4     0   NaN     1  0.007728     0     0     0     0     0     1     0     0   \n\n   R_23  D_91  D_92  D_93  D_94  R_24  R_25  D_96      S_22      S_23  \\\n0     0     3     1     0     0     0     0     0  0.894090  0.135561   \n1     0     3     1     0     0     0     0     0  0.902135  0.136333   \n2     0     3     1     0     0     0     0     0  0.939654  0.134938   \n3     0     3     1     0     0     0     0     0  0.913205  0.140058   \n4     0     3     1     0     0     0     0     0  0.921026  0.131620   \n\n       S_24      S_25      S_26     D_102  D_103     D_104     D_105  D_106  \\\n0  0.911191  0.974539  0.001243  0.766688      1  1.004587  0.893734     -1   \n1  0.919876  0.975625  0.004561  0.786007      1  1.004118  0.906841     -1   \n2  0.958699  0.974067  0.011736  0.806840      1  1.009285  0.928719     -1   \n3  0.926341  0.975499  0.007571  0.808214      1  1.004514  0.935383     -1   \n4  0.933479  0.978027  0.018200  0.822281      1  1.005735  0.953363     -1   \n\n   D_107      B_36      B_37  R_26      R_27  B_38  D_108  D_109  D_110  \\\n0      2  0.009968  0.004572    -1  1.008949     2     -1      0    NaN   \n1      2  0.003921  0.004654    -1  1.003205     2     -1      0    NaN   \n2      2  0.001264  0.019176    -1  1.000754     2     -1      0    NaN   \n3      2  0.002729  0.011720    -1  1.005338     2     -1      0    NaN   \n4      2  0.009998  0.017598    -1  1.003175     2     -1      0    NaN   \n\n   D_111  B_39  D_112      B_40      S_27  D_113  D_114     D_115  D_116  \\\n0     -1   NaN    1.0  0.210060  0.676922      0      1  0.238250      0   \n1     -1   NaN    1.0  0.184093  0.822281      0      1  0.247217      0   \n2     -1   NaN    1.0  0.154837  0.853498      0      1  0.239867      0   \n3     -1   NaN    1.0  0.153939  0.844667      0      1  0.240910      0   \n4     -1   NaN    1.0  0.120717  0.811199      0      1  0.247939      0   \n\n   D_117     D_118     D_119  D_120     D_121  D_122  D_123  D_124  D_125  \\\n0      5  0.232120  0.236266      0  0.702280      3      0     16      0   \n1      5  0.243532  0.241885      0  0.707017      3      0     16      0   \n2      5  0.240768  0.239710      0  0.704843      3      0     16      0   \n3      5  0.239400  0.240727      0  0.711546      3      0     16      0   \n4      5  0.244199  0.242325      0  0.705343      3      0     16      0   \n\n   D_126  D_127     D_128  D_129  B_41  B_42  D_130  D_131  D_132     D_133  \\\n0      2      1  1.007819      1     0   NaN    0.0    0.0    NaN  0.004345   \n1      2      1  1.004333      1     0   NaN    0.0    0.0    NaN  0.007495   \n2      2      1  1.007831      1     0   NaN    0.0    0.0    NaN  0.009227   \n3      2      1  1.003460      1     0   NaN    0.0    0.0    NaN  0.007206   \n4      2      1  1.005053      1     0   NaN    0.0    0.0    NaN  0.006312   \n\n   R_28  D_134  D_135  D_136  D_137  D_138  D_139  D_140  D_141  D_142  D_143  \\\n0     0    NaN     -1     -1     -1     -1      0      0    0.0    NaN      0   \n1     0    NaN     -1     -1     -1     -1      0      0    0.0    NaN      0   \n2     0    NaN     -1     -1     -1     -1      0      0    0.0    NaN      0   \n3     0    NaN     -1     -1     -1     -1      0      0    0.0    NaN      0   \n4     0    NaN     -1     -1     -1     -1      0      0    0.0    NaN      0   \n\n      D_144  D_145  target  del_count  \n0  0.000610      0       0    3053463  \n1  0.005492      0       0    3053463  \n2  0.006986      0       0     103975  \n3  0.006527      0       0    3053463  \n4  0.008126      0       0    3053463  ",
      "text/html": "<div>\n<style scoped>\n    .dataframe tbody tr th:only-of-type {\n        vertical-align: middle;\n    }\n\n    .dataframe tbody tr th {\n        vertical-align: top;\n    }\n\n    .dataframe thead th {\n        text-align: right;\n    }\n</style>\n<table border=\"1\" class=\"dataframe\">\n  <thead>\n    <tr style=\"text-align: right;\">\n      <th></th>\n      <th>customer_ID</th>\n      <th>S_2</th>\n      <th>P_2</th>\n      <th>D_39</th>\n      <th>B_1</th>\n      <th>B_2</th>\n      <th>R_1</th>\n      <th>S_3</th>\n      <th>D_41</th>\n      <th>B_3</th>\n      <th>D_42</th>\n      <th>D_43</th>\n      <th>D_44</th>\n      <th>B_4</th>\n      <th>D_45</th>\n      <th>B_5</th>\n      <th>R_2</th>\n      <th>D_46</th>\n      <th>D_47</th>\n      <th>D_48</th>\n      <th>D_49</th>\n      <th>B_6</th>\n      <th>B_7</th>\n      <th>B_8</th>\n      <th>D_50</th>\n      <th>D_51</th>\n      <th>B_9</th>\n      <th>R_3</th>\n      <th>D_52</th>\n      <th>P_3</th>\n      <th>B_10</th>\n      <th>D_53</th>\n      <th>S_5</th>\n      <th>B_11</th>\n      <th>S_6</th>\n      <th>D_54</th>\n      <th>R_4</th>\n      <th>S_7</th>\n      <th>B_12</th>\n      <th>S_8</th>\n      <th>D_55</th>\n      <th>D_56</th>\n      <th>B_13</th>\n      <th>R_5</th>\n      <th>D_58</th>\n      <th>S_9</th>\n      <th>B_14</th>\n      <th>D_59</th>\n      <th>D_60</th>\n      <th>D_61</th>\n      <th>B_15</th>\n      <th>S_11</th>\n      <th>D_62</th>\n      <th>D_63</th>\n      <th>D_64</th>\n      <th>D_65</th>\n      <th>B_16</th>\n      <th>B_17</th>\n      <th>B_18</th>\n      <th>B_19</th>\n      <th>D_66</th>\n      <th>B_20</th>\n      <th>D_68</th>\n      <th>S_12</th>\n      <th>R_6</th>\n      <th>S_13</th>\n      <th>B_21</th>\n      <th>D_69</th>\n      <th>B_22</th>\n      <th>D_70</th>\n      <th>D_71</th>\n      <th>D_72</th>\n      <th>S_15</th>\n      <th>B_23</th>\n      <th>D_73</th>\n      <th>P_4</th>\n      <th>D_74</th>\n      <th>D_75</th>\n      <th>D_76</th>\n      <th>B_24</th>\n      <th>R_7</th>\n      <th>D_77</th>\n      <th>B_25</th>\n      <th>B_26</th>\n      <th>D_78</th>\n      <th>D_79</th>\n      <th>R_8</th>\n      <th>R_9</th>\n      <th>S_16</th>\n      <th>D_80</th>\n      <th>R_10</th>\n      <th>R_11</th>\n      <th>B_27</th>\n      <th>D_81</th>\n      <th>D_82</th>\n      <th>S_17</th>\n      <th>R_12</th>\n      <th>B_28</th>\n      <th>R_13</th>\n      <th>D_83</th>\n      <th>R_14</th>\n      <th>R_15</th>\n      <th>D_84</th>\n      <th>R_16</th>\n      <th>B_29</th>\n      <th>B_30</th>\n      <th>S_18</th>\n      <th>D_86</th>\n      <th>D_87</th>\n      <th>R_17</th>\n      <th>R_18</th>\n      <th>D_88</th>\n      <th>B_31</th>\n      <th>S_19</th>\n      <th>R_19</th>\n      <th>B_32</th>\n      <th>S_20</th>\n      <th>R_20</th>\n      <th>R_21</th>\n      <th>B_33</th>\n      <th>D_89</th>\n      <th>R_22</th>\n      <th>R_23</th>\n      <th>D_91</th>\n      <th>D_92</th>\n      <th>D_93</th>\n      <th>D_94</th>\n      <th>R_24</th>\n      <th>R_25</th>\n      <th>D_96</th>\n      <th>S_22</th>\n      <th>S_23</th>\n      <th>S_24</th>\n      <th>S_25</th>\n      <th>S_26</th>\n      <th>D_102</th>\n      <th>D_103</th>\n      <th>D_104</th>\n      <th>D_105</th>\n      <th>D_106</th>\n      <th>D_107</th>\n      <th>B_36</th>\n      <th>B_37</th>\n      <th>R_26</th>\n      <th>R_27</th>\n      <th>B_38</th>\n      <th>D_108</th>\n      <th>D_109</th>\n      <th>D_110</th>\n      <th>D_111</th>\n      <th>B_39</th>\n      <th>D_112</th>\n      <th>B_40</th>\n      <th>S_27</th>\n      <th>D_113</th>\n      <th>D_114</th>\n      <th>D_115</th>\n      <th>D_116</th>\n      <th>D_117</th>\n      <th>D_118</th>\n      <th>D_119</th>\n      <th>D_120</th>\n      <th>D_121</th>\n      <th>D_122</th>\n      <th>D_123</th>\n      <th>D_124</th>\n      <th>D_125</th>\n      <th>D_126</th>\n      <th>D_127</th>\n      <th>D_128</th>\n      <th>D_129</th>\n      <th>B_41</th>\n      <th>B_42</th>\n      <th>D_130</th>\n      <th>D_131</th>\n      <th>D_132</th>\n      <th>D_133</th>\n      <th>R_28</th>\n      <th>D_134</th>\n      <th>D_135</th>\n      <th>D_136</th>\n      <th>D_137</th>\n      <th>D_138</th>\n      <th>D_139</th>\n      <th>D_140</th>\n      <th>D_141</th>\n      <th>D_142</th>\n      <th>D_143</th>\n      <th>D_144</th>\n      <th>D_145</th>\n      <th>target</th>\n      <th>del_count</th>\n    </tr>\n  </thead>\n  <tbody>\n    <tr>\n      <th>0</th>\n      <td>0000099d6bd597052cdcda90ffabf56573fe9d7c79be5f...</td>\n      <td>2017-03-09</td>\n      <td>0.938469</td>\n      <td>0</td>\n      <td>0.008724</td>\n      <td>1.006838</td>\n      <td>0.009228</td>\n      <td>0.124035</td>\n      <td>0.0</td>\n      <td>0.004709</td>\n      <td>NaN</td>\n      <td>NaN</td>\n      <td>0</td>\n      <td>6</td>\n      <td>0.708906</td>\n      <td>0.170600</td>\n      <td>0</td>\n      <td>0.358587</td>\n      <td>0.525351</td>\n      <td>0.255736</td>\n      <td>-1</td>\n      <td>0.063902</td>\n      <td>0.059416</td>\n      <td>0.0</td>\n      <td>0.148698</td>\n      <td>4</td>\n      <td>0.008207</td>\n      <td>0</td>\n      <td>0.207334</td>\n      <td>0.736463</td>\n      <td>0.096219</td>\n      <td>NaN</td>\n      <td>0.023381</td>\n      <td>0.002768</td>\n      <td>0</td>\n      <td>1.0</td>\n      <td>0</td>\n      <td>0.161345</td>\n      <td>0.148266</td>\n      <td>2896</td>\n      <td>0.354596</td>\n      <td>0.152025</td>\n      <td>0.118075</td>\n      <td>0</td>\n      <td>0.158612</td>\n      <td>0.065728</td>\n      <td>0.018385</td>\n      <td>8</td>\n      <td>0.199617</td>\n      <td>0.308233</td>\n      <td>0.016361</td>\n      <td>15</td>\n      <td>0.091071</td>\n      <td>0</td>\n      <td>0</td>\n      <td>0</td>\n      <td>0</td>\n      <td>NaN</td>\n      <td>0.652984</td>\n      <td>0</td>\n      <td>-1</td>\n      <td>0</td>\n      <td>6</td>\n      <td>0.272008</td>\n      <td>0.008363</td>\n      <td>524</td>\n      <td>0.002644</td>\n      <td>0.009013</td>\n      <td>0</td>\n      <td>0</td>\n      <td>0.119403</td>\n      <td>0</td>\n      <td>4</td>\n      <td>0.050882</td>\n      <td>NaN</td>\n      <td>0.0</td>\n      <td>1</td>\n      <td>1</td>\n      <td>NaN</td>\n      <td>0.004327</td>\n      <td>0.0</td>\n      <td>NaN</td>\n      <td>0.007729</td>\n      <td>0.000272</td>\n      <td>0</td>\n      <td>0</td>\n      <td>0</td>\n      <td>-1</td>\n      <td>0.002271</td>\n      <td>0</td>\n      <td>0</td>\n      <td>0</td>\n      <td>0.002310</td>\n      <td>0</td>\n      <td>1</td>\n      <td>0.008033</td>\n      <td>1.0</td>\n      <td>0.084683</td>\n      <td>0</td>\n      <td>0</td>\n      <td>0.0</td>\n      <td>0</td>\n      <td>0</td>\n      <td>0</td>\n      <td>NaN</td>\n      <td>0</td>\n      <td>0</td>\n      <td>0</td>\n      <td>-1</td>\n      <td>0</td>\n      <td>0</td>\n      <td>NaN</td>\n      <td>1</td>\n      <td>0.002537</td>\n      <td>0</td>\n      <td>0</td>\n      <td>0</td>\n      <td>0</td>\n      <td>0</td>\n      <td>1</td>\n      <td>0</td>\n      <td>0</td>\n      <td>0</td>\n      <td>3</td>\n      <td>1</td>\n      <td>0</td>\n      <td>0</td>\n      <td>0</td>\n      <td>0</td>\n      <td>0</td>\n      <td>0.894090</td>\n      <td>0.135561</td>\n      <td>0.911191</td>\n      <td>0.974539</td>\n      <td>0.001243</td>\n      <td>0.766688</td>\n      <td>1</td>\n      <td>1.004587</td>\n      <td>0.893734</td>\n      <td>-1</td>\n      <td>2</td>\n      <td>0.009968</td>\n      <td>0.004572</td>\n      <td>-1</td>\n      <td>1.008949</td>\n      <td>2</td>\n      <td>-1</td>\n      <td>0</td>\n      <td>NaN</td>\n      <td>-1</td>\n      <td>NaN</td>\n      <td>1.0</td>\n      <td>0.210060</td>\n      <td>0.676922</td>\n      <td>0</td>\n      <td>1</td>\n      <td>0.238250</td>\n      <td>0</td>\n      <td>5</td>\n      <td>0.232120</td>\n      <td>0.236266</td>\n      <td>0</td>\n      <td>0.702280</td>\n      <td>3</td>\n      <td>0</td>\n      <td>16</td>\n      <td>0</td>\n      <td>2</td>\n      <td>1</td>\n      <td>1.007819</td>\n      <td>1</td>\n      <td>0</td>\n      <td>NaN</td>\n      <td>0.0</td>\n      <td>0.0</td>\n      <td>NaN</td>\n      <td>0.004345</td>\n      <td>0</td>\n      <td>NaN</td>\n      <td>-1</td>\n      <td>-1</td>\n      <td>-1</td>\n      <td>-1</td>\n      <td>0</td>\n      <td>0</td>\n      <td>0.0</td>\n      <td>NaN</td>\n      <td>0</td>\n      <td>0.000610</td>\n      <td>0</td>\n      <td>0</td>\n      <td>3053463</td>\n    </tr>\n    <tr>\n      <th>1</th>\n      <td>0000099d6bd597052cdcda90ffabf56573fe9d7c79be5f...</td>\n      <td>2017-04-07</td>\n      <td>0.936665</td>\n      <td>0</td>\n      <td>0.004923</td>\n      <td>1.000653</td>\n      <td>0.006151</td>\n      <td>0.126750</td>\n      <td>0.0</td>\n      <td>0.002714</td>\n      <td>NaN</td>\n      <td>NaN</td>\n      <td>0</td>\n      <td>5</td>\n      <td>0.712795</td>\n      <td>0.113239</td>\n      <td>0</td>\n      <td>0.353630</td>\n      <td>0.521311</td>\n      <td>0.223329</td>\n      <td>-1</td>\n      <td>0.065261</td>\n      <td>0.057744</td>\n      <td>0.0</td>\n      <td>0.149723</td>\n      <td>4</td>\n      <td>0.008373</td>\n      <td>0</td>\n      <td>0.202778</td>\n      <td>0.720886</td>\n      <td>0.099804</td>\n      <td>NaN</td>\n      <td>0.030599</td>\n      <td>0.002749</td>\n      <td>0</td>\n      <td>1.0</td>\n      <td>0</td>\n      <td>0.140951</td>\n      <td>0.143530</td>\n      <td>2896</td>\n      <td>0.326757</td>\n      <td>0.156201</td>\n      <td>0.118737</td>\n      <td>0</td>\n      <td>0.148459</td>\n      <td>0.093935</td>\n      <td>0.013035</td>\n      <td>8</td>\n      <td>0.151387</td>\n      <td>0.265026</td>\n      <td>0.017688</td>\n      <td>15</td>\n      <td>0.086805</td>\n      <td>0</td>\n      <td>0</td>\n      <td>0</td>\n      <td>0</td>\n      <td>NaN</td>\n      <td>0.647093</td>\n      <td>0</td>\n      <td>-1</td>\n      <td>0</td>\n      <td>6</td>\n      <td>0.188970</td>\n      <td>0.004030</td>\n      <td>524</td>\n      <td>0.004193</td>\n      <td>0.007842</td>\n      <td>0</td>\n      <td>0</td>\n      <td>0.140611</td>\n      <td>0</td>\n      <td>4</td>\n      <td>0.040469</td>\n      <td>NaN</td>\n      <td>0.0</td>\n      <td>1</td>\n      <td>1</td>\n      <td>NaN</td>\n      <td>0.004203</td>\n      <td>0.0</td>\n      <td>NaN</td>\n      <td>0.001864</td>\n      <td>0.000979</td>\n      <td>0</td>\n      <td>0</td>\n      <td>0</td>\n      <td>-1</td>\n      <td>0.009810</td>\n      <td>0</td>\n      <td>0</td>\n      <td>0</td>\n      <td>0.001327</td>\n      <td>0</td>\n      <td>1</td>\n      <td>0.000760</td>\n      <td>1.0</td>\n      <td>0.081843</td>\n      <td>0</td>\n      <td>0</td>\n      <td>0.0</td>\n      <td>0</td>\n      <td>0</td>\n      <td>0</td>\n      <td>NaN</td>\n      <td>0</td>\n      <td>0</td>\n      <td>0</td>\n      <td>-1</td>\n      <td>0</td>\n      <td>0</td>\n      <td>NaN</td>\n      <td>1</td>\n      <td>0.008427</td>\n      <td>0</td>\n      <td>0</td>\n      <td>0</td>\n      <td>0</td>\n      <td>0</td>\n      <td>1</td>\n      <td>0</td>\n      <td>0</td>\n      <td>0</td>\n      <td>3</td>\n      <td>1</td>\n      <td>0</td>\n      <td>0</td>\n      <td>0</td>\n      <td>0</td>\n      <td>0</td>\n      <td>0.902135</td>\n      <td>0.136333</td>\n      <td>0.919876</td>\n      <td>0.975625</td>\n      <td>0.004561</td>\n      <td>0.786007</td>\n      <td>1</td>\n      <td>1.004118</td>\n      <td>0.906841</td>\n      <td>-1</td>\n      <td>2</td>\n      <td>0.003921</td>\n      <td>0.004654</td>\n      <td>-1</td>\n      <td>1.003205</td>\n      <td>2</td>\n      <td>-1</td>\n      <td>0</td>\n      <td>NaN</td>\n      <td>-1</td>\n      <td>NaN</td>\n      <td>1.0</td>\n      <td>0.184093</td>\n      <td>0.822281</td>\n      <td>0</td>\n      <td>1</td>\n      <td>0.247217</td>\n      <td>0</td>\n      <td>5</td>\n      <td>0.243532</td>\n      <td>0.241885</td>\n      <td>0</td>\n      <td>0.707017</td>\n      <td>3</td>\n      <td>0</td>\n      <td>16</td>\n      <td>0</td>\n      <td>2</td>\n      <td>1</td>\n      <td>1.004333</td>\n      <td>1</td>\n      <td>0</td>\n      <td>NaN</td>\n      <td>0.0</td>\n      <td>0.0</td>\n      <td>NaN</td>\n      <td>0.007495</td>\n      <td>0</td>\n      <td>NaN</td>\n      <td>-1</td>\n      <td>-1</td>\n      <td>-1</td>\n      <td>-1</td>\n      <td>0</td>\n      <td>0</td>\n      <td>0.0</td>\n      <td>NaN</td>\n      <td>0</td>\n      <td>0.005492</td>\n      <td>0</td>\n      <td>0</td>\n      <td>3053463</td>\n    </tr>\n    <tr>\n      <th>2</th>\n      <td>0000099d6bd597052cdcda90ffabf56573fe9d7c79be5f...</td>\n      <td>2017-05-28</td>\n      <td>0.954180</td>\n      <td>3</td>\n      <td>0.021655</td>\n      <td>1.009672</td>\n      <td>0.006815</td>\n      <td>0.123977</td>\n      <td>0.0</td>\n      <td>0.009423</td>\n      <td>NaN</td>\n      <td>NaN</td>\n      <td>0</td>\n      <td>5</td>\n      <td>0.720884</td>\n      <td>0.060492</td>\n      <td>0</td>\n      <td>0.334650</td>\n      <td>0.524568</td>\n      <td>0.189424</td>\n      <td>-1</td>\n      <td>0.066982</td>\n      <td>0.056647</td>\n      <td>0.0</td>\n      <td>0.151955</td>\n      <td>4</td>\n      <td>0.009355</td>\n      <td>0</td>\n      <td>0.206629</td>\n      <td>0.738044</td>\n      <td>0.134073</td>\n      <td>NaN</td>\n      <td>0.048367</td>\n      <td>0.010077</td>\n      <td>0</td>\n      <td>1.0</td>\n      <td>0</td>\n      <td>0.112229</td>\n      <td>0.137014</td>\n      <td>3166</td>\n      <td>0.304124</td>\n      <td>0.153795</td>\n      <td>0.114534</td>\n      <td>0</td>\n      <td>0.139504</td>\n      <td>0.084757</td>\n      <td>0.056653</td>\n      <td>8</td>\n      <td>0.305883</td>\n      <td>0.212165</td>\n      <td>0.063955</td>\n      <td>15</td>\n      <td>0.094001</td>\n      <td>0</td>\n      <td>0</td>\n      <td>0</td>\n      <td>0</td>\n      <td>NaN</td>\n      <td>0.645819</td>\n      <td>0</td>\n      <td>-1</td>\n      <td>0</td>\n      <td>6</td>\n      <td>0.495308</td>\n      <td>0.006838</td>\n      <td>702</td>\n      <td>0.001337</td>\n      <td>0.006025</td>\n      <td>0</td>\n      <td>0</td>\n      <td>0.075868</td>\n      <td>0</td>\n      <td>4</td>\n      <td>0.047454</td>\n      <td>NaN</td>\n      <td>0.0</td>\n      <td>1</td>\n      <td>1</td>\n      <td>NaN</td>\n      <td>0.001782</td>\n      <td>0.0</td>\n      <td>NaN</td>\n      <td>0.005419</td>\n      <td>0.006149</td>\n      <td>0</td>\n      <td>0</td>\n      <td>0</td>\n      <td>-1</td>\n      <td>0.009362</td>\n      <td>0</td>\n      <td>0</td>\n      <td>0</td>\n      <td>0.007624</td>\n      <td>0</td>\n      <td>1</td>\n      <td>0.004056</td>\n      <td>1.0</td>\n      <td>0.081954</td>\n      <td>0</td>\n      <td>0</td>\n      <td>0.0</td>\n      <td>0</td>\n      <td>0</td>\n      <td>0</td>\n      <td>NaN</td>\n      <td>0</td>\n      <td>0</td>\n      <td>0</td>\n      <td>-1</td>\n      <td>0</td>\n      <td>0</td>\n      <td>NaN</td>\n      <td>1</td>\n      <td>0.007327</td>\n      <td>0</td>\n      <td>0</td>\n      <td>0</td>\n      <td>0</td>\n      <td>0</td>\n      <td>1</td>\n      <td>0</td>\n      <td>0</td>\n      <td>0</td>\n      <td>3</td>\n      <td>1</td>\n      <td>0</td>\n      <td>0</td>\n      <td>0</td>\n      <td>0</td>\n      <td>0</td>\n      <td>0.939654</td>\n      <td>0.134938</td>\n      <td>0.958699</td>\n      <td>0.974067</td>\n      <td>0.011736</td>\n      <td>0.806840</td>\n      <td>1</td>\n      <td>1.009285</td>\n      <td>0.928719</td>\n      <td>-1</td>\n      <td>2</td>\n      <td>0.001264</td>\n      <td>0.019176</td>\n      <td>-1</td>\n      <td>1.000754</td>\n      <td>2</td>\n      <td>-1</td>\n      <td>0</td>\n      <td>NaN</td>\n      <td>-1</td>\n      <td>NaN</td>\n      <td>1.0</td>\n      <td>0.154837</td>\n      <td>0.853498</td>\n      <td>0</td>\n      <td>1</td>\n      <td>0.239867</td>\n      <td>0</td>\n      <td>5</td>\n      <td>0.240768</td>\n      <td>0.239710</td>\n      <td>0</td>\n      <td>0.704843</td>\n      <td>3</td>\n      <td>0</td>\n      <td>16</td>\n      <td>0</td>\n      <td>2</td>\n      <td>1</td>\n      <td>1.007831</td>\n      <td>1</td>\n      <td>0</td>\n      <td>NaN</td>\n      <td>0.0</td>\n      <td>0.0</td>\n      <td>NaN</td>\n      <td>0.009227</td>\n      <td>0</td>\n      <td>NaN</td>\n      <td>-1</td>\n      <td>-1</td>\n      <td>-1</td>\n      <td>-1</td>\n      <td>0</td>\n      <td>0</td>\n      <td>0.0</td>\n      <td>NaN</td>\n      <td>0</td>\n      <td>0.006986</td>\n      <td>0</td>\n      <td>0</td>\n      <td>103975</td>\n    </tr>\n    <tr>\n      <th>3</th>\n      <td>0000099d6bd597052cdcda90ffabf56573fe9d7c79be5f...</td>\n      <td>2017-06-13</td>\n      <td>0.960384</td>\n      <td>0</td>\n      <td>0.013683</td>\n      <td>1.002700</td>\n      <td>0.001373</td>\n      <td>0.117169</td>\n      <td>0.0</td>\n      <td>0.005531</td>\n      <td>NaN</td>\n      <td>NaN</td>\n      <td>0</td>\n      <td>4</td>\n      <td>0.723997</td>\n      <td>0.166782</td>\n      <td>0</td>\n      <td>0.323271</td>\n      <td>0.530929</td>\n      <td>0.135586</td>\n      <td>-1</td>\n      <td>0.083720</td>\n      <td>0.049253</td>\n      <td>0.0</td>\n      <td>0.151219</td>\n      <td>4</td>\n      <td>0.006782</td>\n      <td>0</td>\n      <td>0.208214</td>\n      <td>0.741813</td>\n      <td>0.134437</td>\n      <td>NaN</td>\n      <td>0.030063</td>\n      <td>0.009667</td>\n      <td>0</td>\n      <td>1.0</td>\n      <td>0</td>\n      <td>0.102838</td>\n      <td>0.129017</td>\n      <td>2218</td>\n      <td>0.275055</td>\n      <td>0.155772</td>\n      <td>0.120740</td>\n      <td>0</td>\n      <td>0.138100</td>\n      <td>0.048382</td>\n      <td>0.012498</td>\n      <td>8</td>\n      <td>0.273553</td>\n      <td>0.204300</td>\n      <td>0.022732</td>\n      <td>15</td>\n      <td>0.094854</td>\n      <td>0</td>\n      <td>0</td>\n      <td>0</td>\n      <td>0</td>\n      <td>NaN</td>\n      <td>0.654358</td>\n      <td>0</td>\n      <td>-1</td>\n      <td>0</td>\n      <td>6</td>\n      <td>0.508670</td>\n      <td>0.008183</td>\n      <td>524</td>\n      <td>0.008716</td>\n      <td>0.005271</td>\n      <td>0</td>\n      <td>0</td>\n      <td>0.150209</td>\n      <td>0</td>\n      <td>5</td>\n      <td>0.031705</td>\n      <td>NaN</td>\n      <td>0.0</td>\n      <td>1</td>\n      <td>1</td>\n      <td>NaN</td>\n      <td>0.005595</td>\n      <td>0.0</td>\n      <td>NaN</td>\n      <td>0.000646</td>\n      <td>0.009193</td>\n      <td>0</td>\n      <td>0</td>\n      <td>0</td>\n      <td>-1</td>\n      <td>0.004876</td>\n      <td>0</td>\n      <td>0</td>\n      <td>0</td>\n      <td>0.000034</td>\n      <td>0</td>\n      <td>1</td>\n      <td>0.006969</td>\n      <td>1.0</td>\n      <td>0.060634</td>\n      <td>0</td>\n      <td>0</td>\n      <td>0.0</td>\n      <td>0</td>\n      <td>0</td>\n      <td>0</td>\n      <td>NaN</td>\n      <td>0</td>\n      <td>0</td>\n      <td>0</td>\n      <td>-1</td>\n      <td>0</td>\n      <td>0</td>\n      <td>NaN</td>\n      <td>1</td>\n      <td>0.007053</td>\n      <td>0</td>\n      <td>0</td>\n      <td>0</td>\n      <td>0</td>\n      <td>0</td>\n      <td>1</td>\n      <td>0</td>\n      <td>0</td>\n      <td>0</td>\n      <td>3</td>\n      <td>1</td>\n      <td>0</td>\n      <td>0</td>\n      <td>0</td>\n      <td>0</td>\n      <td>0</td>\n      <td>0.913205</td>\n      <td>0.140058</td>\n      <td>0.926341</td>\n      <td>0.975499</td>\n      <td>0.007571</td>\n      <td>0.808214</td>\n      <td>1</td>\n      <td>1.004514</td>\n      <td>0.935383</td>\n      <td>-1</td>\n      <td>2</td>\n      <td>0.002729</td>\n      <td>0.011720</td>\n      <td>-1</td>\n      <td>1.005338</td>\n      <td>2</td>\n      <td>-1</td>\n      <td>0</td>\n      <td>NaN</td>\n      <td>-1</td>\n      <td>NaN</td>\n      <td>1.0</td>\n      <td>0.153939</td>\n      <td>0.844667</td>\n      <td>0</td>\n      <td>1</td>\n      <td>0.240910</td>\n      <td>0</td>\n      <td>5</td>\n      <td>0.239400</td>\n      <td>0.240727</td>\n      <td>0</td>\n      <td>0.711546</td>\n      <td>3</td>\n      <td>0</td>\n      <td>16</td>\n      <td>0</td>\n      <td>2</td>\n      <td>1</td>\n      <td>1.003460</td>\n      <td>1</td>\n      <td>0</td>\n      <td>NaN</td>\n      <td>0.0</td>\n      <td>0.0</td>\n      <td>NaN</td>\n      <td>0.007206</td>\n      <td>0</td>\n      <td>NaN</td>\n      <td>-1</td>\n      <td>-1</td>\n      <td>-1</td>\n      <td>-1</td>\n      <td>0</td>\n      <td>0</td>\n      <td>0.0</td>\n      <td>NaN</td>\n      <td>0</td>\n      <td>0.006527</td>\n      <td>0</td>\n      <td>0</td>\n      <td>3053463</td>\n    </tr>\n    <tr>\n      <th>4</th>\n      <td>0000099d6bd597052cdcda90ffabf56573fe9d7c79be5f...</td>\n      <td>2017-07-16</td>\n      <td>0.947248</td>\n      <td>0</td>\n      <td>0.015193</td>\n      <td>1.000727</td>\n      <td>0.007605</td>\n      <td>0.117325</td>\n      <td>0.0</td>\n      <td>0.009312</td>\n      <td>NaN</td>\n      <td>NaN</td>\n      <td>0</td>\n      <td>3</td>\n      <td>0.720619</td>\n      <td>0.143630</td>\n      <td>0</td>\n      <td>0.231009</td>\n      <td>0.529305</td>\n      <td>NaN</td>\n      <td>-1</td>\n      <td>0.075900</td>\n      <td>0.048918</td>\n      <td>0.0</td>\n      <td>0.154026</td>\n      <td>4</td>\n      <td>0.000519</td>\n      <td>0</td>\n      <td>0.205468</td>\n      <td>0.691986</td>\n      <td>0.121518</td>\n      <td>NaN</td>\n      <td>0.054221</td>\n      <td>0.009484</td>\n      <td>0</td>\n      <td>1.0</td>\n      <td>0</td>\n      <td>0.094311</td>\n      <td>0.129539</td>\n      <td>2896</td>\n      <td>0.231110</td>\n      <td>0.154914</td>\n      <td>0.095178</td>\n      <td>0</td>\n      <td>0.126443</td>\n      <td>0.039259</td>\n      <td>0.027897</td>\n      <td>8</td>\n      <td>0.233103</td>\n      <td>0.175655</td>\n      <td>0.031171</td>\n      <td>17</td>\n      <td>0.093915</td>\n      <td>0</td>\n      <td>0</td>\n      <td>0</td>\n      <td>0</td>\n      <td>NaN</td>\n      <td>0.650112</td>\n      <td>0</td>\n      <td>-1</td>\n      <td>0</td>\n      <td>6</td>\n      <td>0.216507</td>\n      <td>0.008605</td>\n      <td>524</td>\n      <td>0.006821</td>\n      <td>0.000152</td>\n      <td>0</td>\n      <td>0</td>\n      <td>0.096441</td>\n      <td>0</td>\n      <td>4</td>\n      <td>0.032733</td>\n      <td>NaN</td>\n      <td>0.0</td>\n      <td>1</td>\n      <td>1</td>\n      <td>NaN</td>\n      <td>0.004933</td>\n      <td>0.0</td>\n      <td>NaN</td>\n      <td>0.001833</td>\n      <td>0.005738</td>\n      <td>0</td>\n      <td>0</td>\n      <td>0</td>\n      <td>-1</td>\n      <td>0.007447</td>\n      <td>0</td>\n      <td>0</td>\n      <td>0</td>\n      <td>0.002109</td>\n      <td>0</td>\n      <td>1</td>\n      <td>0.001770</td>\n      <td>1.0</td>\n      <td>0.062492</td>\n      <td>0</td>\n      <td>0</td>\n      <td>0.0</td>\n      <td>0</td>\n      <td>0</td>\n      <td>0</td>\n      <td>NaN</td>\n      <td>0</td>\n      <td>0</td>\n      <td>0</td>\n      <td>-1</td>\n      <td>0</td>\n      <td>0</td>\n      <td>NaN</td>\n      <td>1</td>\n      <td>0.007728</td>\n      <td>0</td>\n      <td>0</td>\n      <td>0</td>\n      <td>0</td>\n      <td>0</td>\n      <td>1</td>\n      <td>0</td>\n      <td>0</td>\n      <td>0</td>\n      <td>3</td>\n      <td>1</td>\n      <td>0</td>\n      <td>0</td>\n      <td>0</td>\n      <td>0</td>\n      <td>0</td>\n      <td>0.921026</td>\n      <td>0.131620</td>\n      <td>0.933479</td>\n      <td>0.978027</td>\n      <td>0.018200</td>\n      <td>0.822281</td>\n      <td>1</td>\n      <td>1.005735</td>\n      <td>0.953363</td>\n      <td>-1</td>\n      <td>2</td>\n      <td>0.009998</td>\n      <td>0.017598</td>\n      <td>-1</td>\n      <td>1.003175</td>\n      <td>2</td>\n      <td>-1</td>\n      <td>0</td>\n      <td>NaN</td>\n      <td>-1</td>\n      <td>NaN</td>\n      <td>1.0</td>\n      <td>0.120717</td>\n      <td>0.811199</td>\n      <td>0</td>\n      <td>1</td>\n      <td>0.247939</td>\n      <td>0</td>\n      <td>5</td>\n      <td>0.244199</td>\n      <td>0.242325</td>\n      <td>0</td>\n      <td>0.705343</td>\n      <td>3</td>\n      <td>0</td>\n      <td>16</td>\n      <td>0</td>\n      <td>2</td>\n      <td>1</td>\n      <td>1.005053</td>\n      <td>1</td>\n      <td>0</td>\n      <td>NaN</td>\n      <td>0.0</td>\n      <td>0.0</td>\n      <td>NaN</td>\n      <td>0.006312</td>\n      <td>0</td>\n      <td>NaN</td>\n      <td>-1</td>\n      <td>-1</td>\n      <td>-1</td>\n      <td>-1</td>\n      <td>0</td>\n      <td>0</td>\n      <td>0.0</td>\n      <td>NaN</td>\n      <td>0</td>\n      <td>0.008126</td>\n      <td>0</td>\n      <td>0</td>\n      <td>3053463</td>\n    </tr>\n  </tbody>\n</table>\n</div>"
     },
     "execution_count": 103,
     "metadata": {},
     "output_type": "execute_result"
    }
   ],
   "source": [
    "train.head()"
   ],
   "metadata": {
    "collapsed": false,
    "pycharm": {
     "name": "#%%\n"
    }
   }
  },
  {
   "cell_type": "code",
   "execution_count": 107,
   "outputs": [],
   "source": [
    "temp = train['D_39'].value_counts().to_dict()"
   ],
   "metadata": {
    "collapsed": false,
    "pycharm": {
     "name": "#%%\n"
    }
   }
  },
  {
   "cell_type": "code",
   "execution_count": 108,
   "outputs": [
    {
     "data": {
      "text/plain": "{0: 3053463,\n 1: 476208,\n 3: 103975,\n 2: 102479,\n 4: 101466,\n 5: 100753,\n 8: 98985,\n 6: 98736,\n 7: 98060,\n 10: 92733,\n 9: 92055,\n 11: 89689,\n 12: 88569,\n 13: 85389,\n 14: 83341,\n 15: 77571,\n 16: 69921,\n 17: 68496,\n 18: 65213,\n 19: 62867,\n 20: 58406,\n 21: 54657,\n 31: 52664,\n 22: 50456,\n 23: 42560,\n 24: 36562,\n 25: 20216,\n 61: 12692,\n 26: 11253,\n 27: 8797,\n 28: 7447,\n 32: 6854,\n 29: 6353,\n 30: 5150,\n 33: 3519,\n 91: 3092,\n 34: 2650,\n 35: 2367,\n 36: 2163,\n 37: 2026,\n 38: 1897,\n 39: 1663,\n 40: 1640,\n 41: 1508,\n 42: 1403,\n 43: 1377,\n 45: 1243,\n 44: 1208,\n 47: 1091,\n 46: 1027,\n 48: 946,\n 50: 897,\n 49: 890,\n 51: 821,\n 52: 770,\n 62: 757,\n 54: 685,\n 53: 668,\n 55: 630,\n 56: 539,\n 63: 492,\n 57: 490,\n 58: 460,\n 59: 407,\n 64: 373,\n 65: 372,\n 67: 352,\n 68: 339,\n 66: 325,\n 60: 300,\n 70: 298,\n 72: 286,\n 151: 278,\n 71: 272,\n 69: 254,\n 75: 250,\n 74: 240,\n 73: 209,\n 81: 202,\n 77: 195,\n 78: 193,\n 76: 189,\n 80: 180,\n 82: 175,\n 79: 168,\n 92: 166,\n 83: 145,\n 84: 144,\n 85: 132,\n 87: 126,\n 121: 125,\n 88: 116,\n 86: 112,\n 93: 110,\n 89: 108,\n 90: 93,\n 94: 88,\n 98: 85,\n 96: 84,\n 97: 79,\n 95: 68,\n 100: 66,\n 101: 57,\n 102: 57,\n 99: 56,\n 104: 50,\n 103: 46,\n 105: 46,\n 108: 37,\n 106: 36,\n 107: 31,\n 109: 26,\n 110: 24,\n 111: 22,\n 112: 22,\n 114: 19,\n 116: 16,\n 118: 16,\n 113: 15,\n 182: 14,\n 117: 11,\n 122: 11,\n 115: 10,\n 181: 8,\n 119: 8,\n 120: 7,\n 123: 7,\n 170: 6,\n 133: 6,\n 130: 6,\n 134: 5,\n 145: 5,\n 159: 5,\n 141: 4,\n 175: 4,\n 160: 4,\n 125: 4,\n 128: 4,\n 139: 4,\n 171: 4,\n 152: 3,\n 150: 3,\n 164: 3,\n 138: 3,\n 157: 3,\n 165: 3,\n 147: 3,\n 129: 3,\n 177: 3,\n 136: 3,\n 166: 3,\n 167: 3,\n 153: 3,\n 143: 2,\n 161: 2,\n 126: 2,\n 146: 2,\n 169: 2,\n 155: 2,\n 183: 2,\n 132: 2,\n 131: 2,\n 180: 2,\n 154: 2,\n 148: 2,\n 124: 2,\n 173: 1,\n 137: 1,\n 178: 1,\n 179: 1,\n 172: 1,\n 156: 1,\n 162: 1,\n 140: 1,\n 149: 1,\n 142: 1,\n 144: 1,\n 176: 1,\n 135: 1,\n 174: 1}"
     },
     "execution_count": 108,
     "metadata": {},
     "output_type": "execute_result"
    }
   ],
   "source": [
    "temp"
   ],
   "metadata": {
    "collapsed": false,
    "pycharm": {
     "name": "#%%\n"
    }
   }
  },
  {
   "cell_type": "code",
   "execution_count": 28,
   "outputs": [],
   "source": [
    "# ====================================================\n",
    "# Get the difference\n",
    "# ====================================================\n",
    "def get_difference(data, num_features):\n",
    "    df1 = []\n",
    "    customer_ids = []\n",
    "    for customer_id, df in tqdm(data.groupby(['customer_ID'])):\n",
    "        # Get the differences\n",
    "        diff_df1 = df[num_features].diff(1).iloc[[-1]].values.astype(np.float32)\n",
    "        # Append to lists\n",
    "        df1.append(diff_df1)\n",
    "        customer_ids.append(customer_id)\n",
    "    # Concatenate\n",
    "    df1 = np.concatenate(df1, axis = 0)\n",
    "    # Transform to dataframe\n",
    "    df1 = pd.DataFrame(df1, columns = [col + '_diff1' for col in df[num_features].columns])\n",
    "    # Add customer id\n",
    "    df1['customer_ID'] = customer_ids\n",
    "    return df1\n"
   ],
   "metadata": {
    "collapsed": false,
    "pycharm": {
     "name": "#%%\n"
    }
   }
  },
  {
   "cell_type": "code",
   "execution_count": 29,
   "outputs": [],
   "source": [
    "from tqdm.auto import tqdm\n",
    "df1 = []\n",
    "customer_ids = []\n",
    "features = train.drop(['customer_ID', 'S_2'], axis = 1).columns.to_list()\n",
    "cat_features = [\n",
    "    \"B_30\",\n",
    "    \"B_38\",\n",
    "    \"D_114\",\n",
    "    \"D_116\",\n",
    "    \"D_117\",\n",
    "    \"D_120\",\n",
    "    \"D_126\",\n",
    "    \"D_63\",\n",
    "    \"D_64\",\n",
    "    \"D_66\",\n",
    "    \"D_68\",\n",
    "]\n",
    "num_features = [col for col in features if col not in cat_features]"
   ],
   "metadata": {
    "collapsed": false,
    "pycharm": {
     "name": "#%%\n"
    }
   }
  }
 ],
 "metadata": {
  "kernelspec": {
   "display_name": "Python 3",
   "language": "python",
   "name": "python3"
  },
  "language_info": {
   "codemirror_mode": {
    "name": "ipython",
    "version": 2
   },
   "file_extension": ".py",
   "mimetype": "text/x-python",
   "name": "python",
   "nbconvert_exporter": "python",
   "pygments_lexer": "ipython2",
   "version": "2.7.6"
  }
 },
 "nbformat": 4,
 "nbformat_minor": 0
}