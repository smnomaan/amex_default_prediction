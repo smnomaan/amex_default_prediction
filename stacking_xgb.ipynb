{
 "cells": [
  {
   "cell_type": "code",
   "execution_count": 24,
   "outputs": [],
   "source": [
    "# ====================================================\n",
    "# Library\n",
    "# ====================================================\n",
    "import os\n",
    "import gc\n",
    "import warnings\n",
    "warnings.filterwarnings('ignore')\n",
    "import random\n",
    "import scipy as sp\n",
    "import numpy as np\n",
    "import pandas as pd\n",
    "import joblib\n",
    "import itertools\n",
    "pd.set_option('display.max_rows', 500)\n",
    "pd.set_option('display.max_columns', 500)\n",
    "pd.set_option('display.width', 1000)\n",
    "from tqdm.auto import tqdm\n",
    "from sklearn.model_selection import StratifiedKFold, train_test_split\n",
    "from sklearn.preprocessing import LabelEncoder\n",
    "import lightgbm as lgb\n",
    "from itertools import combinations\n",
    "import itertools\n",
    "import xgboost as xgb"
   ],
   "metadata": {
    "collapsed": false,
    "pycharm": {
     "name": "#%%\n"
    }
   }
  },
  {
   "cell_type": "code",
   "execution_count": 25,
   "outputs": [],
   "source": [
    "train = pd.read_parquet('../input/train_fe.parquet')\n",
    "test = pd.read_parquet('../input/test_fe.parquet')"
   ],
   "metadata": {
    "collapsed": false,
    "pycharm": {
     "name": "#%%\n"
    }
   }
  },
  {
   "cell_type": "code",
   "execution_count": 26,
   "outputs": [],
   "source": [
    "train = train[['customer_ID', 'P_2_last', 'D_39_last', 'target']] #, 'P_2_last', 'D_39_last'\n",
    "test = test[['customer_ID', 'P_2_last', 'D_39_last']]"
   ],
   "metadata": {
    "collapsed": false,
    "pycharm": {
     "name": "#%%\n"
    }
   }
  },
  {
   "cell_type": "code",
   "execution_count": 27,
   "outputs": [
    {
     "data": {
      "text/plain": "                                         customer_ID  P_2_last  D_39_last\n0  00000469ba478561f23a92a868bd366de6f6527a684c9a...  0.568930          4\n1  00001bf2e77ff879fab36aa4fac689b9ba411dae63ae39...  0.841177          4\n2  0000210045da4f81e5f122c6bde5c2a617d03eef67f82c...  0.697522          0\n3  00003b41e58ede33b8daf61ab56d9952f17c9ad1c3976c...  0.513186         11\n4  00004b22eaeeeb0ec976890c1d9bfc14fd9427e98c4ee9...  0.254478         26",
      "text/html": "<div>\n<style scoped>\n    .dataframe tbody tr th:only-of-type {\n        vertical-align: middle;\n    }\n\n    .dataframe tbody tr th {\n        vertical-align: top;\n    }\n\n    .dataframe thead th {\n        text-align: right;\n    }\n</style>\n<table border=\"1\" class=\"dataframe\">\n  <thead>\n    <tr style=\"text-align: right;\">\n      <th></th>\n      <th>customer_ID</th>\n      <th>P_2_last</th>\n      <th>D_39_last</th>\n    </tr>\n  </thead>\n  <tbody>\n    <tr>\n      <th>0</th>\n      <td>00000469ba478561f23a92a868bd366de6f6527a684c9a...</td>\n      <td>0.568930</td>\n      <td>4</td>\n    </tr>\n    <tr>\n      <th>1</th>\n      <td>00001bf2e77ff879fab36aa4fac689b9ba411dae63ae39...</td>\n      <td>0.841177</td>\n      <td>4</td>\n    </tr>\n    <tr>\n      <th>2</th>\n      <td>0000210045da4f81e5f122c6bde5c2a617d03eef67f82c...</td>\n      <td>0.697522</td>\n      <td>0</td>\n    </tr>\n    <tr>\n      <th>3</th>\n      <td>00003b41e58ede33b8daf61ab56d9952f17c9ad1c3976c...</td>\n      <td>0.513186</td>\n      <td>11</td>\n    </tr>\n    <tr>\n      <th>4</th>\n      <td>00004b22eaeeeb0ec976890c1d9bfc14fd9427e98c4ee9...</td>\n      <td>0.254478</td>\n      <td>26</td>\n    </tr>\n  </tbody>\n</table>\n</div>"
     },
     "execution_count": 27,
     "metadata": {},
     "output_type": "execute_result"
    }
   ],
   "source": [
    "test.head()"
   ],
   "metadata": {
    "collapsed": false,
    "pycharm": {
     "name": "#%%\n"
    }
   }
  },
  {
   "cell_type": "code",
   "execution_count": 28,
   "outputs": [],
   "source": [
    "# Metric:\n",
    "\n",
    "def amex_metric(y_true, y_pred):\n",
    "    labels = np.transpose(np.array([y_true, y_pred]))\n",
    "    labels = labels[labels[:, 1].argsort()[::-1]]\n",
    "    weights = np.where(labels[:,0]==0, 20, 1)\n",
    "    cut_vals = labels[np.cumsum(weights) <= int(0.04 * np.sum(weights))]\n",
    "    top_four = np.sum(cut_vals[:,0]) / np.sum(labels[:,0])\n",
    "    gini = [0,0]\n",
    "    for i in [1,0]:\n",
    "        labels = np.transpose(np.array([y_true, y_pred]))\n",
    "        labels = labels[labels[:, i].argsort()[::-1]]\n",
    "        weight = np.where(labels[:,0]==0, 20, 1)\n",
    "        weight_random = np.cumsum(weight / np.sum(weight))\n",
    "        total_pos = np.sum(labels[:, 0] *  weight)\n",
    "        cum_pos_found = np.cumsum(labels[:, 0] * weight)\n",
    "        lorentz = cum_pos_found / total_pos\n",
    "        gini[i] = np.sum((lorentz - weight_random) * weight)\n",
    "    return 0.5 * (gini[1]/gini[0] + top_four)\n",
    "\n",
    "# ====================================================\n",
    "# XGB amex metric\n",
    "# ====================================================\n",
    "def xgb_amex(y_pred, y_true):\n",
    "    y_true = y_true.get_label()\n",
    "    return 'amex_metric', amex_metric(y_true, y_pred)"
   ],
   "metadata": {
    "collapsed": false,
    "pycharm": {
     "name": "#%%\n"
    }
   }
  },
  {
   "cell_type": "code",
   "execution_count": 29,
   "outputs": [],
   "source": [
    "oof_new = pd.read_csv('../lgbm_new_5_fold/oof_lgbm_new_5_fold_seed42.csv')\n",
    "oof_smn = pd.read_csv('../lgbm_smn_fold/oof_lgbm_smn_fold_seed42.csv')\n",
    "oof_lag = pd.read_csv('../lgbm_lag_5_fold/oof_lgbm_lag_5_fold_5fold_seed42.csv')\n",
    "oof_xgb = pd.read_csv('../xgb_fe_8_fold/oof_xgb_fe_8_fold_seed42.csv')\n",
    "oof_xgb_smn = pd.read_csv('../xgb_smn_5_fold/oof_xgb_smn_5_fold_seed42.csv')\n",
    "oof_bobw = pd.read_csv('../xgb_BOBW_5_fold/oof_xgb_BOBW_5_fold_seed42.csv')"
   ],
   "metadata": {
    "collapsed": false,
    "pycharm": {
     "name": "#%%\n"
    }
   }
  },
  {
   "cell_type": "code",
   "execution_count": 30,
   "outputs": [
    {
     "data": {
      "text/plain": "                                         customer_ID  target  prediction\n0  0000099d6bd597052cdcda90ffabf56573fe9d7c79be5f...       0    0.000272\n1  00000fd6641609c6ece5454664794f0340ad84dddce9a2...       0    0.000842\n2  00001b22f846c82c51f6e3958ccd81970162bae8b007e8...       0    0.001372\n3  000041bdba6ecadd89a52d11886e8eaaec9325906c9723...       0    0.007334\n4  00007889e4fcd2614b6cbe7f8f3d2e5c728eca32d9eb8a...       0    0.001293",
      "text/html": "<div>\n<style scoped>\n    .dataframe tbody tr th:only-of-type {\n        vertical-align: middle;\n    }\n\n    .dataframe tbody tr th {\n        vertical-align: top;\n    }\n\n    .dataframe thead th {\n        text-align: right;\n    }\n</style>\n<table border=\"1\" class=\"dataframe\">\n  <thead>\n    <tr style=\"text-align: right;\">\n      <th></th>\n      <th>customer_ID</th>\n      <th>target</th>\n      <th>prediction</th>\n    </tr>\n  </thead>\n  <tbody>\n    <tr>\n      <th>0</th>\n      <td>0000099d6bd597052cdcda90ffabf56573fe9d7c79be5f...</td>\n      <td>0</td>\n      <td>0.000272</td>\n    </tr>\n    <tr>\n      <th>1</th>\n      <td>00000fd6641609c6ece5454664794f0340ad84dddce9a2...</td>\n      <td>0</td>\n      <td>0.000842</td>\n    </tr>\n    <tr>\n      <th>2</th>\n      <td>00001b22f846c82c51f6e3958ccd81970162bae8b007e8...</td>\n      <td>0</td>\n      <td>0.001372</td>\n    </tr>\n    <tr>\n      <th>3</th>\n      <td>000041bdba6ecadd89a52d11886e8eaaec9325906c9723...</td>\n      <td>0</td>\n      <td>0.007334</td>\n    </tr>\n    <tr>\n      <th>4</th>\n      <td>00007889e4fcd2614b6cbe7f8f3d2e5c728eca32d9eb8a...</td>\n      <td>0</td>\n      <td>0.001293</td>\n    </tr>\n  </tbody>\n</table>\n</div>"
     },
     "execution_count": 30,
     "metadata": {},
     "output_type": "execute_result"
    }
   ],
   "source": [
    "oof_bobw.head()"
   ],
   "metadata": {
    "collapsed": false,
    "pycharm": {
     "name": "#%%\n"
    }
   }
  },
  {
   "cell_type": "code",
   "execution_count": 31,
   "outputs": [],
   "source": [
    "train['pred_new'] = oof_new.prediction\n",
    "train['pred_smn'] = oof_smn.prediction\n",
    "train['pred_lag'] = oof_lag.prediction\n",
    "train['pred_xgb'] = oof_xgb.prediction\n",
    "train['pred_xgb_smn'] = oof_xgb_smn.prediction\n",
    "train['pred_xgb_bobw'] = oof_bobw.prediction"
   ],
   "metadata": {
    "collapsed": false,
    "pycharm": {
     "name": "#%%\n"
    }
   }
  },
  {
   "cell_type": "code",
   "execution_count": 32,
   "outputs": [],
   "source": [
    "train = train[['customer_ID' , 'P_2_last', 'D_39_last', 'pred_new', 'pred_smn', 'pred_lag', 'pred_xgb','pred_xgb_smn', 'pred_xgb_bobw', 'target']] #'pred_lag',"
   ],
   "metadata": {
    "collapsed": false,
    "pycharm": {
     "name": "#%%\n"
    }
   }
  },
  {
   "cell_type": "code",
   "execution_count": 33,
   "outputs": [
    {
     "data": {
      "text/plain": "                                         customer_ID  P_2_last  D_39_last  pred_new  pred_smn  pred_lag  pred_xgb  pred_xgb_smn  pred_xgb_bobw  target\n0  0000099d6bd597052cdcda90ffabf56573fe9d7c79be5f...  0.934745          0  0.000307  0.000128  0.000346  0.000262      0.000162       0.000272       0\n1  00000fd6641609c6ece5454664794f0340ad84dddce9a2...  0.880519          6  0.000957  0.000704  0.000897  0.001429      0.001026       0.000842       0\n2  00001b22f846c82c51f6e3958ccd81970162bae8b007e8...  0.880875          0  0.001072  0.001070  0.001014  0.001446      0.001510       0.001372       0\n3  000041bdba6ecadd89a52d11886e8eaaec9325906c9723...  0.621776          0  0.003317  0.001992  0.003068  0.008611      0.003684       0.007334       0\n4  00007889e4fcd2614b6cbe7f8f3d2e5c728eca32d9eb8a...  0.871900          0  0.001673  0.000634  0.001234  0.000680      0.001328       0.001293       0",
      "text/html": "<div>\n<style scoped>\n    .dataframe tbody tr th:only-of-type {\n        vertical-align: middle;\n    }\n\n    .dataframe tbody tr th {\n        vertical-align: top;\n    }\n\n    .dataframe thead th {\n        text-align: right;\n    }\n</style>\n<table border=\"1\" class=\"dataframe\">\n  <thead>\n    <tr style=\"text-align: right;\">\n      <th></th>\n      <th>customer_ID</th>\n      <th>P_2_last</th>\n      <th>D_39_last</th>\n      <th>pred_new</th>\n      <th>pred_smn</th>\n      <th>pred_lag</th>\n      <th>pred_xgb</th>\n      <th>pred_xgb_smn</th>\n      <th>pred_xgb_bobw</th>\n      <th>target</th>\n    </tr>\n  </thead>\n  <tbody>\n    <tr>\n      <th>0</th>\n      <td>0000099d6bd597052cdcda90ffabf56573fe9d7c79be5f...</td>\n      <td>0.934745</td>\n      <td>0</td>\n      <td>0.000307</td>\n      <td>0.000128</td>\n      <td>0.000346</td>\n      <td>0.000262</td>\n      <td>0.000162</td>\n      <td>0.000272</td>\n      <td>0</td>\n    </tr>\n    <tr>\n      <th>1</th>\n      <td>00000fd6641609c6ece5454664794f0340ad84dddce9a2...</td>\n      <td>0.880519</td>\n      <td>6</td>\n      <td>0.000957</td>\n      <td>0.000704</td>\n      <td>0.000897</td>\n      <td>0.001429</td>\n      <td>0.001026</td>\n      <td>0.000842</td>\n      <td>0</td>\n    </tr>\n    <tr>\n      <th>2</th>\n      <td>00001b22f846c82c51f6e3958ccd81970162bae8b007e8...</td>\n      <td>0.880875</td>\n      <td>0</td>\n      <td>0.001072</td>\n      <td>0.001070</td>\n      <td>0.001014</td>\n      <td>0.001446</td>\n      <td>0.001510</td>\n      <td>0.001372</td>\n      <td>0</td>\n    </tr>\n    <tr>\n      <th>3</th>\n      <td>000041bdba6ecadd89a52d11886e8eaaec9325906c9723...</td>\n      <td>0.621776</td>\n      <td>0</td>\n      <td>0.003317</td>\n      <td>0.001992</td>\n      <td>0.003068</td>\n      <td>0.008611</td>\n      <td>0.003684</td>\n      <td>0.007334</td>\n      <td>0</td>\n    </tr>\n    <tr>\n      <th>4</th>\n      <td>00007889e4fcd2614b6cbe7f8f3d2e5c728eca32d9eb8a...</td>\n      <td>0.871900</td>\n      <td>0</td>\n      <td>0.001673</td>\n      <td>0.000634</td>\n      <td>0.001234</td>\n      <td>0.000680</td>\n      <td>0.001328</td>\n      <td>0.001293</td>\n      <td>0</td>\n    </tr>\n  </tbody>\n</table>\n</div>"
     },
     "execution_count": 33,
     "metadata": {},
     "output_type": "execute_result"
    }
   ],
   "source": [
    "train.head()"
   ],
   "metadata": {
    "collapsed": false,
    "pycharm": {
     "name": "#%%\n"
    }
   }
  },
  {
   "cell_type": "code",
   "execution_count": 34,
   "outputs": [],
   "source": [
    "test_new = pd.read_csv('../lgbm_new_5_fold/test_lgbm_new_5_fold_seed42.csv')\n",
    "test_smn = pd.read_csv('../lgbm_smn_fold/test_lgbm_smn_fold_seed42.csv')\n",
    "test_lag = pd.read_csv('../lgbm_lag_5_fold/test_lgbm_lag_5_fold_5fold_seed42.csv')\n",
    "test_xgb = pd.read_csv('../xgb_fe_8_fold/test_xgb_fe_8_fold_seed42.csv')\n",
    "test_xgb_smn = pd.read_csv('../xgb_smn_5_fold/test_xgb_smn_5_fold_seed42.csv')\n",
    "test_xgb_bobw = pd.read_csv('../xgb_BOBW_5_fold/test_xgb_BOBW_5_fold_seed42.csv')"
   ],
   "metadata": {
    "collapsed": false,
    "pycharm": {
     "name": "#%%\n"
    }
   }
  },
  {
   "cell_type": "code",
   "execution_count": 35,
   "outputs": [],
   "source": [
    "test['pred_new'] = test_new.prediction\n",
    "test['pred_smn'] = test_smn.prediction\n",
    "test['pred_lag'] = test_lag.prediction\n",
    "test['pred_xgb'] = test_xgb.prediction\n",
    "test['pred_xgb_smn'] = test_xgb_smn.prediction\n",
    "test['pred_xgb_bobw'] = test_xgb_bobw.prediction"
   ],
   "metadata": {
    "collapsed": false,
    "pycharm": {
     "name": "#%%\n"
    }
   }
  },
  {
   "cell_type": "code",
   "execution_count": 36,
   "outputs": [
    {
     "data": {
      "text/plain": "KstestResult(statistic=0.057840996473149525, pvalue=0.0)"
     },
     "execution_count": 36,
     "metadata": {},
     "output_type": "execute_result"
    }
   ],
   "source": [
    "from scipy.stats import ks_2samp\n",
    "\n",
    "#perform Kolmogorov-Smirnov test\n",
    "ks_2samp(test_xgb.prediction, test_new.prediction)"
   ],
   "metadata": {
    "collapsed": false,
    "pycharm": {
     "name": "#%%\n"
    }
   }
  },
  {
   "cell_type": "code",
   "execution_count": 37,
   "outputs": [
    {
     "data": {
      "text/plain": "                                         customer_ID  P_2_last  D_39_last  pred_new  pred_smn  pred_lag  pred_xgb  pred_xgb_smn  pred_xgb_bobw\n0  00000469ba478561f23a92a868bd366de6f6527a684c9a...  0.568930          4  0.029524  0.028134  0.029705  0.032877      0.024319       0.020313\n1  00001bf2e77ff879fab36aa4fac689b9ba411dae63ae39...  0.841177          4  0.001012  0.000574  0.000823  0.000531      0.000385       0.000391\n2  0000210045da4f81e5f122c6bde5c2a617d03eef67f82c...  0.697522          0  0.038608  0.025484  0.044923  0.033457      0.027844       0.030673\n3  00003b41e58ede33b8daf61ab56d9952f17c9ad1c3976c...  0.513186         11  0.179223  0.200430  0.226944  0.153475      0.156202       0.126363\n4  00004b22eaeeeb0ec976890c1d9bfc14fd9427e98c4ee9...  0.254478         26  0.869733  0.905022  0.837129  0.920015      0.925976       0.921779",
      "text/html": "<div>\n<style scoped>\n    .dataframe tbody tr th:only-of-type {\n        vertical-align: middle;\n    }\n\n    .dataframe tbody tr th {\n        vertical-align: top;\n    }\n\n    .dataframe thead th {\n        text-align: right;\n    }\n</style>\n<table border=\"1\" class=\"dataframe\">\n  <thead>\n    <tr style=\"text-align: right;\">\n      <th></th>\n      <th>customer_ID</th>\n      <th>P_2_last</th>\n      <th>D_39_last</th>\n      <th>pred_new</th>\n      <th>pred_smn</th>\n      <th>pred_lag</th>\n      <th>pred_xgb</th>\n      <th>pred_xgb_smn</th>\n      <th>pred_xgb_bobw</th>\n    </tr>\n  </thead>\n  <tbody>\n    <tr>\n      <th>0</th>\n      <td>00000469ba478561f23a92a868bd366de6f6527a684c9a...</td>\n      <td>0.568930</td>\n      <td>4</td>\n      <td>0.029524</td>\n      <td>0.028134</td>\n      <td>0.029705</td>\n      <td>0.032877</td>\n      <td>0.024319</td>\n      <td>0.020313</td>\n    </tr>\n    <tr>\n      <th>1</th>\n      <td>00001bf2e77ff879fab36aa4fac689b9ba411dae63ae39...</td>\n      <td>0.841177</td>\n      <td>4</td>\n      <td>0.001012</td>\n      <td>0.000574</td>\n      <td>0.000823</td>\n      <td>0.000531</td>\n      <td>0.000385</td>\n      <td>0.000391</td>\n    </tr>\n    <tr>\n      <th>2</th>\n      <td>0000210045da4f81e5f122c6bde5c2a617d03eef67f82c...</td>\n      <td>0.697522</td>\n      <td>0</td>\n      <td>0.038608</td>\n      <td>0.025484</td>\n      <td>0.044923</td>\n      <td>0.033457</td>\n      <td>0.027844</td>\n      <td>0.030673</td>\n    </tr>\n    <tr>\n      <th>3</th>\n      <td>00003b41e58ede33b8daf61ab56d9952f17c9ad1c3976c...</td>\n      <td>0.513186</td>\n      <td>11</td>\n      <td>0.179223</td>\n      <td>0.200430</td>\n      <td>0.226944</td>\n      <td>0.153475</td>\n      <td>0.156202</td>\n      <td>0.126363</td>\n    </tr>\n    <tr>\n      <th>4</th>\n      <td>00004b22eaeeeb0ec976890c1d9bfc14fd9427e98c4ee9...</td>\n      <td>0.254478</td>\n      <td>26</td>\n      <td>0.869733</td>\n      <td>0.905022</td>\n      <td>0.837129</td>\n      <td>0.920015</td>\n      <td>0.925976</td>\n      <td>0.921779</td>\n    </tr>\n  </tbody>\n</table>\n</div>"
     },
     "execution_count": 37,
     "metadata": {},
     "output_type": "execute_result"
    }
   ],
   "source": [
    "test.head()"
   ],
   "metadata": {
    "collapsed": false,
    "pycharm": {
     "name": "#%%\n"
    }
   }
  },
  {
   "cell_type": "code",
   "execution_count": 38,
   "outputs": [],
   "source": [
    "\n",
    "# ====================================================\n",
    "# Configurations\n",
    "# ====================================================\n",
    "class CFG:\n",
    "    input_dir = '../input/'\n",
    "    seed = 42\n",
    "    n_folds = 5\n",
    "    target = 'target'\n",
    "    boosting_type = 'dart'\n",
    "    metric = 'binary_logloss'\n",
    "\n",
    "# ====================================================\n",
    "# Seed everything\n",
    "# ====================================================\n",
    "def seed_everything(seed):\n",
    "    random.seed(seed)\n",
    "    np.random.seed(seed)\n",
    "    os.environ['PYTHONHASHSEED'] = str(seed)"
   ],
   "metadata": {
    "collapsed": false,
    "pycharm": {
     "name": "#%%\n"
    }
   }
  },
  {
   "cell_type": "code",
   "execution_count": 39,
   "outputs": [],
   "source": [
    "# ====================================================\n",
    "# Directory settings\n",
    "# ====================================================\n",
    "import os\n",
    "\n",
    "expt_name = \"stacking_xgb_2\"\n",
    "OUTPUT_DIR = f'../{expt_name}/'\n",
    "if not os.path.exists(OUTPUT_DIR):\n",
    "    os.makedirs(OUTPUT_DIR)"
   ],
   "metadata": {
    "collapsed": false,
    "pycharm": {
     "name": "#%%\n"
    }
   }
  },
  {
   "cell_type": "code",
   "execution_count": 40,
   "outputs": [],
   "source": [
    "def xgb_train(x_train, y_train, x_val, y_val):\n",
    "    print(\"# of features:\", x_train.shape[1])\n",
    "    assert x_train.shape[1] == x_val.shape[1]\n",
    "    dtrain = xgb.DMatrix(data=x_train, label=y_train)\n",
    "    dvalid = xgb.DMatrix(data=x_val, label=y_val)\n",
    "    params = {\n",
    "            'booster': 'dart',\n",
    "            'rate_drop': 0.1,\n",
    "            'skip_drop': 0.5,\n",
    "            'objective': 'binary:logistic',\n",
    "            'tree_method': 'gpu_hist',\n",
    "            'max_depth': 7,\n",
    "            'subsample':0.88, #0.88\n",
    "            'colsample_bytree': 0.5,\n",
    "            'gamma':1.5,\n",
    "            'min_child_weight':8,\n",
    "            'lambda':70,\n",
    "            'eta':0.03, #0.03\n",
    "    }\n",
    "    watchlist = [(dtrain, 'train'), (dvalid, 'eval')]\n",
    "    model = xgb.train(params, dtrain=dtrain,\n",
    "                num_boost_round=2600,evals=watchlist,\n",
    "                early_stopping_rounds=1000, feval=xgb_amex, maximize=True,\n",
    "                verbose_eval=100)   #num_boost_round=2600, early_stopping_rounds = 500 , feval=xgb_amex\n",
    "    print('best tree_limit:', model.best_ntree_limit)\n",
    "    print('best score:', model.best_score)\n",
    "    return model.predict(dvalid, iteration_range=(0,model.best_ntree_limit)), model\n",
    "seed_everything(CFG.seed)"
   ],
   "metadata": {
    "collapsed": false,
    "pycharm": {
     "name": "#%%\n"
    }
   }
  },
  {
   "cell_type": "code",
   "execution_count": 41,
   "outputs": [],
   "source": [
    "# Get feature list\n",
    "features = [col for col in train.columns if col not in ['customer_ID', CFG.target]]\n",
    "test_data = test[features]\n",
    "dtest = xgb.DMatrix(data=test_data)"
   ],
   "metadata": {
    "collapsed": false,
    "pycharm": {
     "name": "#%%\n"
    }
   }
  },
  {
   "cell_type": "code",
   "execution_count": 42,
   "outputs": [
    {
     "name": "stdout",
     "output_type": "stream",
     "text": [
      " \n",
      "--------------------------------------------------\n",
      "Training fold 0 with 8 features...\n",
      "# of features: 8\n",
      "[0]\ttrain-logloss:0.67163\ttrain-amex_metric:0.79296\teval-logloss:0.67153\teval-amex_metric:0.79866\n",
      "[100]\ttrain-logloss:0.24253\ttrain-amex_metric:0.79792\teval-logloss:0.24088\teval-amex_metric:0.80331\n",
      "[200]\ttrain-logloss:0.21907\ttrain-amex_metric:0.79848\teval-logloss:0.21732\teval-amex_metric:0.80367\n",
      "[300]\ttrain-logloss:0.21415\ttrain-amex_metric:0.79865\teval-logloss:0.21248\teval-amex_metric:0.80362\n",
      "[400]\ttrain-logloss:0.21311\ttrain-amex_metric:0.79866\teval-logloss:0.21156\teval-amex_metric:0.80359\n",
      "[500]\ttrain-logloss:0.21277\ttrain-amex_metric:0.79876\teval-logloss:0.21137\teval-amex_metric:0.80367\n",
      "[600]\ttrain-logloss:0.21264\ttrain-amex_metric:0.79898\teval-logloss:0.21134\teval-amex_metric:0.80358\n",
      "[700]\ttrain-logloss:0.21256\ttrain-amex_metric:0.79912\teval-logloss:0.21134\teval-amex_metric:0.80356\n",
      "[800]\ttrain-logloss:0.21249\ttrain-amex_metric:0.79914\teval-logloss:0.21134\teval-amex_metric:0.80347\n",
      "[900]\ttrain-logloss:0.21244\ttrain-amex_metric:0.79918\teval-logloss:0.21135\teval-amex_metric:0.80348\n",
      "[1000]\ttrain-logloss:0.21237\ttrain-amex_metric:0.79930\teval-logloss:0.21136\teval-amex_metric:0.80365\n",
      "[1100]\ttrain-logloss:0.21230\ttrain-amex_metric:0.79944\teval-logloss:0.21137\teval-amex_metric:0.80343\n",
      "[1200]\ttrain-logloss:0.21227\ttrain-amex_metric:0.79936\teval-logloss:0.21137\teval-amex_metric:0.80341\n",
      "[1300]\ttrain-logloss:0.21219\ttrain-amex_metric:0.79954\teval-logloss:0.21138\teval-amex_metric:0.80340\n",
      "[1400]\ttrain-logloss:0.21218\ttrain-amex_metric:0.79954\teval-logloss:0.21138\teval-amex_metric:0.80340\n",
      "[1500]\ttrain-logloss:0.21216\ttrain-amex_metric:0.79951\teval-logloss:0.21139\teval-amex_metric:0.80342\n",
      "[1553]\ttrain-logloss:0.21215\ttrain-amex_metric:0.79960\teval-logloss:0.21139\teval-amex_metric:0.80346\n",
      "best tree_limit: 554\n",
      "best score: 0.803779\n",
      "Fold 0 CV score is 0.8037779933297866\n",
      " \n",
      "--------------------------------------------------\n",
      "Training fold 1 with 8 features...\n",
      "# of features: 8\n",
      "[0]\ttrain-logloss:0.67160\ttrain-amex_metric:0.79314\teval-logloss:0.67164\teval-amex_metric:0.78906\n",
      "[100]\ttrain-logloss:0.24167\ttrain-amex_metric:0.80009\teval-logloss:0.24356\teval-amex_metric:0.79390\n",
      "[200]\ttrain-logloss:0.21812\ttrain-amex_metric:0.80057\teval-logloss:0.22069\teval-amex_metric:0.79396\n",
      "[300]\ttrain-logloss:0.21320\ttrain-amex_metric:0.80090\teval-logloss:0.21614\teval-amex_metric:0.79402\n",
      "[400]\ttrain-logloss:0.21215\ttrain-amex_metric:0.80111\teval-logloss:0.21532\teval-amex_metric:0.79396\n",
      "[500]\ttrain-logloss:0.21181\ttrain-amex_metric:0.80123\teval-logloss:0.21518\teval-amex_metric:0.79370\n",
      "[600]\ttrain-logloss:0.21169\ttrain-amex_metric:0.80136\teval-logloss:0.21515\teval-amex_metric:0.79385\n",
      "[700]\ttrain-logloss:0.21162\ttrain-amex_metric:0.80136\teval-logloss:0.21516\teval-amex_metric:0.79397\n",
      "[800]\ttrain-logloss:0.21155\ttrain-amex_metric:0.80140\teval-logloss:0.21516\teval-amex_metric:0.79388\n",
      "[900]\ttrain-logloss:0.21148\ttrain-amex_metric:0.80149\teval-logloss:0.21517\teval-amex_metric:0.79390\n",
      "[1000]\ttrain-logloss:0.21145\ttrain-amex_metric:0.80152\teval-logloss:0.21518\teval-amex_metric:0.79401\n",
      "[1100]\ttrain-logloss:0.21142\ttrain-amex_metric:0.80151\teval-logloss:0.21518\teval-amex_metric:0.79417\n",
      "[1200]\ttrain-logloss:0.21138\ttrain-amex_metric:0.80149\teval-logloss:0.21519\teval-amex_metric:0.79398\n",
      "[1237]\ttrain-logloss:0.21138\ttrain-amex_metric:0.80150\teval-logloss:0.21519\teval-amex_metric:0.79398\n",
      "best tree_limit: 239\n",
      "best score: 0.794243\n",
      "Fold 1 CV score is 0.7942430643390828\n",
      " \n",
      "--------------------------------------------------\n",
      "Training fold 2 with 8 features...\n",
      "# of features: 8\n",
      "[0]\ttrain-logloss:0.67161\ttrain-amex_metric:0.79278\teval-logloss:0.67158\teval-amex_metric:0.79383\n",
      "[100]\ttrain-logloss:0.24190\ttrain-amex_metric:0.79870\teval-logloss:0.24270\teval-amex_metric:0.79818\n",
      "[200]\ttrain-logloss:0.21839\ttrain-amex_metric:0.79943\teval-logloss:0.21966\teval-amex_metric:0.79856\n",
      "[300]\ttrain-logloss:0.21348\ttrain-amex_metric:0.79955\teval-logloss:0.21502\teval-amex_metric:0.79859\n",
      "[400]\ttrain-logloss:0.21249\ttrain-amex_metric:0.79962\teval-logloss:0.21417\teval-amex_metric:0.79840\n",
      "[500]\ttrain-logloss:0.21217\ttrain-amex_metric:0.79965\teval-logloss:0.21394\teval-amex_metric:0.79854\n",
      "[600]\ttrain-logloss:0.21206\ttrain-amex_metric:0.79976\teval-logloss:0.21388\teval-amex_metric:0.79885\n",
      "[700]\ttrain-logloss:0.21199\ttrain-amex_metric:0.79990\teval-logloss:0.21385\teval-amex_metric:0.79874\n",
      "[800]\ttrain-logloss:0.21193\ttrain-amex_metric:0.79993\teval-logloss:0.21385\teval-amex_metric:0.79857\n",
      "[900]\ttrain-logloss:0.21187\ttrain-amex_metric:0.79993\teval-logloss:0.21385\teval-amex_metric:0.79846\n",
      "[1000]\ttrain-logloss:0.21182\ttrain-amex_metric:0.79996\teval-logloss:0.21385\teval-amex_metric:0.79848\n",
      "[1100]\ttrain-logloss:0.21178\ttrain-amex_metric:0.80009\teval-logloss:0.21385\teval-amex_metric:0.79838\n",
      "[1200]\ttrain-logloss:0.21171\ttrain-amex_metric:0.80013\teval-logloss:0.21386\teval-amex_metric:0.79846\n",
      "[1300]\ttrain-logloss:0.21168\ttrain-amex_metric:0.80018\teval-logloss:0.21387\teval-amex_metric:0.79856\n",
      "[1400]\ttrain-logloss:0.21165\ttrain-amex_metric:0.80025\teval-logloss:0.21387\teval-amex_metric:0.79860\n",
      "[1500]\ttrain-logloss:0.21163\ttrain-amex_metric:0.80029\teval-logloss:0.21388\teval-amex_metric:0.79873\n",
      "[1594]\ttrain-logloss:0.21160\ttrain-amex_metric:0.80042\teval-logloss:0.21388\teval-amex_metric:0.79879\n",
      "best tree_limit: 596\n",
      "best score: 0.798871\n",
      "Fold 2 CV score is 0.7988705151477866\n",
      " \n",
      "--------------------------------------------------\n",
      "Training fold 3 with 8 features...\n",
      "# of features: 8\n",
      "[0]\ttrain-logloss:0.67160\ttrain-amex_metric:0.79214\teval-logloss:0.67172\teval-amex_metric:0.78782\n",
      "[100]\ttrain-logloss:0.24169\ttrain-amex_metric:0.80055\teval-logloss:0.24366\teval-amex_metric:0.79382\n",
      "[200]\ttrain-logloss:0.21815\ttrain-amex_metric:0.80086\teval-logloss:0.22077\teval-amex_metric:0.79457\n",
      "[300]\ttrain-logloss:0.21320\ttrain-amex_metric:0.80093\teval-logloss:0.21628\teval-amex_metric:0.79446\n",
      "[400]\ttrain-logloss:0.21217\ttrain-amex_metric:0.80105\teval-logloss:0.21550\teval-amex_metric:0.79422\n",
      "[500]\ttrain-logloss:0.21185\ttrain-amex_metric:0.80126\teval-logloss:0.21534\teval-amex_metric:0.79413\n",
      "[600]\ttrain-logloss:0.21173\ttrain-amex_metric:0.80121\teval-logloss:0.21531\teval-amex_metric:0.79417\n",
      "[700]\ttrain-logloss:0.21166\ttrain-amex_metric:0.80114\teval-logloss:0.21530\teval-amex_metric:0.79435\n",
      "[800]\ttrain-logloss:0.21160\ttrain-amex_metric:0.80121\teval-logloss:0.21530\teval-amex_metric:0.79444\n",
      "[900]\ttrain-logloss:0.21155\ttrain-amex_metric:0.80131\teval-logloss:0.21530\teval-amex_metric:0.79433\n",
      "[1000]\ttrain-logloss:0.21150\ttrain-amex_metric:0.80140\teval-logloss:0.21530\teval-amex_metric:0.79429\n",
      "[1100]\ttrain-logloss:0.21147\ttrain-amex_metric:0.80146\teval-logloss:0.21530\teval-amex_metric:0.79419\n",
      "[1200]\ttrain-logloss:0.21144\ttrain-amex_metric:0.80159\teval-logloss:0.21530\teval-amex_metric:0.79406\n",
      "[1202]\ttrain-logloss:0.21144\ttrain-amex_metric:0.80158\teval-logloss:0.21530\teval-amex_metric:0.79406\n",
      "best tree_limit: 203\n",
      "best score: 0.794591\n",
      "Fold 3 CV score is 0.7945891653789364\n",
      " \n",
      "--------------------------------------------------\n",
      "Training fold 4 with 8 features...\n",
      "# of features: 8\n",
      "[0]\ttrain-logloss:0.67161\ttrain-amex_metric:0.79173\teval-logloss:0.67164\teval-amex_metric:0.79319\n",
      "[100]\ttrain-logloss:0.24214\ttrain-amex_metric:0.79901\teval-logloss:0.24264\teval-amex_metric:0.79852\n",
      "[200]\ttrain-logloss:0.21870\ttrain-amex_metric:0.79952\teval-logloss:0.21903\teval-amex_metric:0.79906\n",
      "[300]\ttrain-logloss:0.21381\ttrain-amex_metric:0.79979\teval-logloss:0.21405\teval-amex_metric:0.79895\n",
      "[400]\ttrain-logloss:0.21280\ttrain-amex_metric:0.79988\teval-logloss:0.21306\teval-amex_metric:0.79873\n",
      "[500]\ttrain-logloss:0.21249\ttrain-amex_metric:0.79990\teval-logloss:0.21281\teval-amex_metric:0.79876\n",
      "[600]\ttrain-logloss:0.21236\ttrain-amex_metric:0.79997\teval-logloss:0.21275\teval-amex_metric:0.79879\n",
      "[700]\ttrain-logloss:0.21229\ttrain-amex_metric:0.79999\teval-logloss:0.21274\teval-amex_metric:0.79886\n",
      "[800]\ttrain-logloss:0.21224\ttrain-amex_metric:0.80004\teval-logloss:0.21273\teval-amex_metric:0.79886\n",
      "[900]\ttrain-logloss:0.21220\ttrain-amex_metric:0.80013\teval-logloss:0.21273\teval-amex_metric:0.79892\n",
      "[1000]\ttrain-logloss:0.21216\ttrain-amex_metric:0.80017\teval-logloss:0.21273\teval-amex_metric:0.79883\n",
      "[1100]\ttrain-logloss:0.21214\ttrain-amex_metric:0.80019\teval-logloss:0.21273\teval-amex_metric:0.79885\n",
      "[1200]\ttrain-logloss:0.21209\ttrain-amex_metric:0.80029\teval-logloss:0.21273\teval-amex_metric:0.79896\n",
      "[1253]\ttrain-logloss:0.21208\ttrain-amex_metric:0.80033\teval-logloss:0.21273\teval-amex_metric:0.79908\n",
      "best tree_limit: 254\n",
      "best score: 0.799171\n",
      "Fold 4 CV score is 0.7991711576146197\n",
      "Our out of folds CV score is 0.7972298416722128\n"
     ]
    }
   ],
   "source": [
    "# Create a numpy array to store test predictions\n",
    "test_predictions = np.zeros(len(test))\n",
    "# Create a numpy array to store out of folds predictions\n",
    "oof_predictions = np.zeros(len(train))\n",
    "\n",
    "kfold = StratifiedKFold(n_splits = CFG.n_folds, shuffle = True, random_state = 42)\n",
    "for fold, (trn_ind, val_ind) in enumerate(kfold.split(train, train[CFG.target])):\n",
    "    print(' ')\n",
    "    print('-'*50)\n",
    "    print(f'Training fold {fold} with {len(features)} features...')\n",
    "    x_train, x_val = train[features].iloc[trn_ind], train[features].iloc[val_ind]\n",
    "    y_train, y_val = train[CFG.target].iloc[trn_ind], train[CFG.target].iloc[val_ind]\n",
    "\n",
    "    # x = x_train, y = y_train, xt = x_val, yt = y_val\n",
    "\n",
    "    val_pred, model = xgb_train(x_train, y_train, x_val, y_val)\n",
    "    model.save_model(OUTPUT_DIR+f'{expt_name}_fold{fold}.xgb')\n",
    "    # Add to out of folds array\n",
    "    oof_predictions[val_ind] = val_pred\n",
    "\n",
    "    # Predict the test set\n",
    "    test_pred = model.predict(dtest)\n",
    "    test_predictions += test_pred / CFG.n_folds\n",
    "\n",
    "    amex_score = amex_metric(y_val, val_pred)\n",
    "\n",
    "    print(f'Fold {fold} CV score is {amex_score}')\n",
    "\n",
    "# Compute out of folds metric\n",
    "score = amex_metric(train[CFG.target], oof_predictions)\n",
    "print(f'Our out of folds CV score is {score}')\n",
    "\n",
    "# Create a dataframe to store out of folds predictions\n",
    "oof_df = pd.DataFrame({'customer_ID': train['customer_ID'], 'target': train[CFG.target], 'prediction': oof_predictions})\n",
    "oof_df.to_csv(OUTPUT_DIR+f'oof_{expt_name}_seed{CFG.seed}.csv', index = False)\n",
    "# Create a dataframe to store test prediction\n",
    "test_df = pd.DataFrame({'customer_ID': test['customer_ID'], 'prediction': test_predictions})\n",
    "test_df.to_csv(OUTPUT_DIR+f'test_{expt_name}_seed{CFG.seed}.csv', index = False)"
   ],
   "metadata": {
    "collapsed": false,
    "pycharm": {
     "name": "#%%\n"
    }
   }
  },
  {
   "cell_type": "code",
   "execution_count": 43,
   "outputs": [
    {
     "data": {
      "text/plain": "                                         customer_ID  prediction\n0  00000469ba478561f23a92a868bd366de6f6527a684c9a...    0.024639\n1  00001bf2e77ff879fab36aa4fac689b9ba411dae63ae39...    0.000745\n2  0000210045da4f81e5f122c6bde5c2a617d03eef67f82c...    0.036576\n3  00003b41e58ede33b8daf61ab56d9952f17c9ad1c3976c...    0.179826\n4  00004b22eaeeeb0ec976890c1d9bfc14fd9427e98c4ee9...    0.890262",
      "text/html": "<div>\n<style scoped>\n    .dataframe tbody tr th:only-of-type {\n        vertical-align: middle;\n    }\n\n    .dataframe tbody tr th {\n        vertical-align: top;\n    }\n\n    .dataframe thead th {\n        text-align: right;\n    }\n</style>\n<table border=\"1\" class=\"dataframe\">\n  <thead>\n    <tr style=\"text-align: right;\">\n      <th></th>\n      <th>customer_ID</th>\n      <th>prediction</th>\n    </tr>\n  </thead>\n  <tbody>\n    <tr>\n      <th>0</th>\n      <td>00000469ba478561f23a92a868bd366de6f6527a684c9a...</td>\n      <td>0.024639</td>\n    </tr>\n    <tr>\n      <th>1</th>\n      <td>00001bf2e77ff879fab36aa4fac689b9ba411dae63ae39...</td>\n      <td>0.000745</td>\n    </tr>\n    <tr>\n      <th>2</th>\n      <td>0000210045da4f81e5f122c6bde5c2a617d03eef67f82c...</td>\n      <td>0.036576</td>\n    </tr>\n    <tr>\n      <th>3</th>\n      <td>00003b41e58ede33b8daf61ab56d9952f17c9ad1c3976c...</td>\n      <td>0.179826</td>\n    </tr>\n    <tr>\n      <th>4</th>\n      <td>00004b22eaeeeb0ec976890c1d9bfc14fd9427e98c4ee9...</td>\n      <td>0.890262</td>\n    </tr>\n  </tbody>\n</table>\n</div>"
     },
     "execution_count": 43,
     "metadata": {},
     "output_type": "execute_result"
    }
   ],
   "source": [
    "test_df.head()"
   ],
   "metadata": {
    "collapsed": false,
    "pycharm": {
     "name": "#%%\n"
    }
   }
  },
  {
   "cell_type": "code",
   "execution_count": 44,
   "outputs": [
    {
     "data": {
      "text/plain": "0.7972298416722128"
     },
     "execution_count": 44,
     "metadata": {},
     "output_type": "execute_result"
    }
   ],
   "source": [
    "amex_metric(oof_df[CFG.target], oof_df.prediction)"
   ],
   "metadata": {
    "collapsed": false,
    "pycharm": {
     "name": "#%%\n"
    }
   }
  },
  {
   "cell_type": "code",
   "execution_count": 44,
   "outputs": [],
   "source": [],
   "metadata": {
    "collapsed": false,
    "pycharm": {
     "name": "#%%\n"
    }
   }
  }
 ],
 "metadata": {
  "kernelspec": {
   "display_name": "Python 3",
   "language": "python",
   "name": "python3"
  },
  "language_info": {
   "codemirror_mode": {
    "name": "ipython",
    "version": 2
   },
   "file_extension": ".py",
   "mimetype": "text/x-python",
   "name": "python",
   "nbconvert_exporter": "python",
   "pygments_lexer": "ipython2",
   "version": "2.7.6"
  }
 },
 "nbformat": 4,
 "nbformat_minor": 0
}